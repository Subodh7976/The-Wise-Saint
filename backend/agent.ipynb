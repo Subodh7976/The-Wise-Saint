{
 "cells": [
  {
   "cell_type": "code",
   "execution_count": 1,
   "metadata": {},
   "outputs": [
    {
     "name": "stderr",
     "output_type": "stream",
     "text": [
      "/usr/local/lib/python3.11/site-packages/tqdm/auto.py:21: TqdmWarning: IProgress not found. Please update jupyter and ipywidgets. See https://ipywidgets.readthedocs.io/en/stable/user_install.html\n",
      "  from .autonotebook import tqdm as notebook_tqdm\n"
     ]
    }
   ],
   "source": [
    "from langchain_google_genai import ChatGoogleGenerativeAI\n",
    "\n",
    "llm = ChatGoogleGenerativeAI(model=\"gemini-1.5-pro\")"
   ]
  },
  {
   "cell_type": "code",
   "execution_count": 2,
   "metadata": {},
   "outputs": [],
   "source": [
    "from langgraph.graph import StateGraph, END \n",
    "from typing import TypedDict, List\n",
    "from langgraph.checkpoint.sqlite import SqliteSaver \n",
    "from langchain_core.messages import SystemMessage, HumanMessage\n",
    "\n",
    "from prompts import *\n",
    "\n",
    "memory = SqliteSaver.from_conn_string(\":memory:\")"
   ]
  },
  {
   "cell_type": "code",
   "execution_count": 3,
   "metadata": {},
   "outputs": [],
   "source": [
    "class AgentState(TypedDict):\n",
    "    query: str \n",
    "    definition: str \n",
    "    decomposed_steps: List[str]\n",
    "    solved_steps: List[str]\n",
    "    completed_step: int"
   ]
  },
  {
   "cell_type": "code",
   "execution_count": 4,
   "metadata": {},
   "outputs": [],
   "source": [
    "from langchain_core.pydantic_v1 import BaseModel\n",
    "from langchain.output_parsers import PydanticOutputParser\n",
    "\n",
    "class Steps(BaseModel):\n",
    "    steps: List[str]"
   ]
  },
  {
   "cell_type": "code",
   "execution_count": 5,
   "metadata": {},
   "outputs": [],
   "source": [
    "def problem_definer_node(state: AgentState):\n",
    "    messages = [\n",
    "        SystemMessage(content=PROBLEM_DEFINER_PROMPT),\n",
    "        HumanMessage(content=state['query'])\n",
    "    ]\n",
    "    response = llm.invoke(messages)\n",
    "    return {\"definition\": response.content}"
   ]
  },
  {
   "cell_type": "code",
   "execution_count": 6,
   "metadata": {},
   "outputs": [],
   "source": [
    "def problem_decomposer_node(state: AgentState):\n",
    "    parser = PydanticOutputParser(pydantic_object=Steps)\n",
    "    \n",
    "    chain = llm | parser\n",
    "    system_message = f\"{PROBLEM_DECOMPOSER_PROMPT}\\n\\nFormat Instructions: {parser.get_format_instructions()}\"\n",
    "    \n",
    "    messages = [\n",
    "        SystemMessage(content=system_message),\n",
    "        HumanMessage(content=state['definition'])\n",
    "    ]\n",
    "    \n",
    "    steps = chain.invoke(messages)\n",
    "    return {\"decomposed_steps\": steps.steps}"
   ]
  },
  {
   "cell_type": "code",
   "execution_count": 7,
   "metadata": {},
   "outputs": [],
   "source": [
    "def step_generator(state: AgentState):\n",
    "    solved_steps = state['solved_steps'] or []\n",
    "    step_count = state.get(\"completed_steps\", 0)\n",
    "    while step_count != len(state['decomposed_steps']):\n",
    "        content = \"\\n\\n\".join(solved_steps)\n",
    "        human_content = f\"Original problem definition: {state['query']}. This is the solution so far: {content}\\n\\n and this is the description for next step: {state['decomposed_steps'][step_count]}\"\n",
    "        \n",
    "        messages = [\n",
    "            SystemMessage(content=STEP_GENERATOR_PROMPT),\n",
    "            HumanMessage(content=human_content)\n",
    "        ]\n",
    "        response = llm.invoke(messages)\n",
    "        solved_steps.append(response.content)\n",
    "        step_count += 1\n",
    "    \n",
    "    return {\n",
    "        \"solved_steps\": solved_steps, \n",
    "        \"completed_steps\": step_count\n",
    "    }"
   ]
  },
  {
   "cell_type": "code",
   "execution_count": 8,
   "metadata": {},
   "outputs": [],
   "source": [
    "builder = StateGraph(AgentState)"
   ]
  },
  {
   "cell_type": "code",
   "execution_count": 9,
   "metadata": {},
   "outputs": [],
   "source": [
    "builder.add_node(\"definer\", problem_definer_node)\n",
    "builder.add_node(\"decomposer\", problem_decomposer_node)\n",
    "builder.add_node(\"solver\", step_generator)"
   ]
  },
  {
   "cell_type": "code",
   "execution_count": 10,
   "metadata": {},
   "outputs": [],
   "source": [
    "builder.set_entry_point(\"definer\")"
   ]
  },
  {
   "cell_type": "code",
   "execution_count": 11,
   "metadata": {},
   "outputs": [],
   "source": [
    "builder.add_edge(\"definer\", \"decomposer\")\n",
    "builder.add_edge(\"decomposer\", \"solver\")\n",
    "builder.add_edge(\"solver\", END)"
   ]
  },
  {
   "cell_type": "code",
   "execution_count": 12,
   "metadata": {},
   "outputs": [],
   "source": [
    "graph = builder.compile(checkpointer=memory)"
   ]
  },
  {
   "cell_type": "code",
   "execution_count": 13,
   "metadata": {},
   "outputs": [
    {
     "data": {
      "image/png": "[encoded data removed]",
      "text/plain": [
       "<IPython.core.display.Image object>"
      ]
     },
     "execution_count": 13,
     "metadata": {},
     "output_type": "execute_result"
    }
   ],
   "source": [
    "from IPython.display import Image \n",
    "\n",
    "Image(graph.get_graph().draw_png())"
   ]
  },
  {
   "cell_type": "code",
   "execution_count": 14,
   "metadata": {},
   "outputs": [
    {
     "name": "stderr",
     "output_type": "stream",
     "text": [
      "Retrying langchain_google_genai.chat_models._chat_with_retry.<locals>._chat_with_retry in 2.0 seconds as it raised ResourceExhausted: 429 Resource has been exhausted (e.g. check quota)..\n",
      "Retrying langchain_google_genai.chat_models._chat_with_retry.<locals>._chat_with_retry in 4.0 seconds as it raised ResourceExhausted: 429 Resource has been exhausted (e.g. check quota)..\n",
      "Retrying langchain_google_genai.chat_models._chat_with_retry.<locals>._chat_with_retry in 2.0 seconds as it raised ResourceExhausted: 429 Resource has been exhausted (e.g. check quota)..\n",
      "Retrying langchain_google_genai.chat_models._chat_with_retry.<locals>._chat_with_retry in 2.0 seconds as it raised ResourceExhausted: 429 Resource has been exhausted (e.g. check quota)..\n",
      "Retrying langchain_google_genai.chat_models._chat_with_retry.<locals>._chat_with_retry in 4.0 seconds as it raised ResourceExhausted: 429 Resource has been exhausted (e.g. check quota)..\n",
      "Retrying langchain_google_genai.chat_models._chat_with_retry.<locals>._chat_with_retry in 8.0 seconds as it raised ResourceExhausted: 429 Resource has been exhausted (e.g. check quota)..\n",
      "Retrying langchain_google_genai.chat_models._chat_with_retry.<locals>._chat_with_retry in 16.0 seconds as it raised ResourceExhausted: 429 Resource has been exhausted (e.g. check quota)..\n"
     ]
    }
   ],
   "source": [
    "thread = {\"configurable\": {\"thread_id\": 1}}\n",
    "\n",
    "response = graph.invoke({\"query\": \"What is the solution for x in sin(x)^3 - cos(x) = 4?\"}, thread)"
   ]
  },
  {
   "cell_type": "code",
   "execution_count": 15,
   "metadata": {},
   "outputs": [
    {
     "name": "stdout",
     "output_type": "stream",
     "text": [
      "Excellent! Now that we have the equation sin(x)^3 - cos(x) = 4 in front of us, let's take a closer look at its components. \n",
      "\n",
      "As the description says, the equation involves two trigonometric functions: **sine**, represented as sin(x), and **cosine**, represented as cos(x).  \n",
      "\n",
      "Furthermore, notice that the sine function has a power of 3 (sin(x)^3), making this a **cubic equation** in terms of sin(x). \n",
      "\n",
      "Understanding the types of functions and the degree of the equation helps us strategize our approach to finding the solution for 'x'. \n",
      "\n",
      "\n",
      "Alright, so we've recognized that we have a somewhat complicated equation: it involves both sine and cosine, and it's cubic in terms of sin(x).  As the next step tells us, there's no magical trigonometric identity that will immediately simplify the equation for us. \n",
      "\n",
      "This is actually a common scenario in math! Don't be discouraged by the lack of an obvious simplification. It just means we need to explore other strategies for solving the equation. \n",
      "\n",
      "Think of it like encountering a locked door – sometimes you need to find the key instead of just trying to push it open. We'll need to delve deeper into different techniques to tackle this equation and find the solution for 'x'. \n",
      "\n",
      "\n",
      "Okay, so we've established that our equation,  sin(x)^3 - cos(x) = 4,  is a bit tricky and won't simplify easily.  Think of this step as brainstorming a plan of attack! Since there's no obvious \"one-size-fits-all\" solution, we need to consider different tools in our mathematical toolbox.\n",
      "\n",
      "The description suggests two broad strategies to explore:\n",
      "\n",
      "1. **Trigonometric Identities:** While there might not be an identity that directly simplifies our equation, remember that identities can often be manipulated or combined. It's worth revisiting trigonometric identities to see if any can be used to rewrite the equation in a more manageable form. \n",
      "\n",
      "2. **Numerical Methods:**  When algebraic solutions are difficult or impossible to find, numerical methods provide a way to approximate solutions. These methods involve using algorithms and iterative calculations to get closer and closer to the actual solution. Examples include techniques like the Newton-Raphson method or graphing calculators.\n",
      "\n",
      "Think of these strategies as different paths you can take to reach your destination. You might need to try one path and then switch to another if it seems more promising. The key is to be flexible and persistent in your problem-solving approach! \n",
      "\n",
      "\n",
      "Okay, so we've determined that finding a straightforward algebraic solution to our equation, sin(x)^3 - cos(x) = 4, is proving quite difficult.  It's time to bring in the power of numerical methods!\n",
      "\n",
      "Think of numerical methods as clever workarounds when directly solving an equation is like hitting a brick wall.  Instead of finding an exact, \"closed-form\" solution, we'll use these methods to approximate the solution.\n",
      "\n",
      "The description mentions two powerful numerical methods:\n",
      "\n",
      "1. **Newton-Raphson Method:** Imagine trying to find where a curve crosses the x-axis but the equation is too complex to solve directly. The Newton-Raphson method is like taking repeated, educated guesses. You start with an initial guess for the solution and then refine it step-by-step using the equation's derivative.  Each guess gets you closer and closer to the point where the curve intersects the x-axis (i.e., where the equation equals zero).\n",
      "\n",
      "2. **Graphical Analysis:** This method involves visualizing the solution.  You can plot the graph of y = sin(x)^3 - cos(x) and y = 4.  The points where these graphs intersect represent the solutions to your equation. While you might not get exact numerical answers from a graph, you'll get a visual representation of where the solutions lie.\n",
      "\n",
      "The choice of which numerical method to use often depends on the specific equation and the desired level of accuracy. Sometimes, using a combination of methods can be helpful.\n",
      "\n",
      "Remember, numerical methods provide approximate solutions, but these approximations can be made incredibly accurate with enough iterations or with the assistance of computational tools. \n",
      "\n",
      "\n",
      "Let's step back and consider the range of values that the left-hand side of our equation can possibly take. \n",
      "\n",
      "Remember that the sine function, sin(x), always oscillates between -1 and 1 for any value of x.  Cubing sin(x) doesn't change this fact; sin(x)^3 will also always fall between -1 and 1.\n",
      "\n",
      "Similarly, the cosine function, cos(x), also ranges from -1 to 1.  Therefore, -cos(x) will also range from -1 to 1 (just flipped signs).\n",
      "\n",
      "Now, think about the biggest possible value the left-hand side of the equation, sin(x)^3 - cos(x), could achieve. The maximum would occur if sin(x)^3 were at its maximum value of 1 and -cos(x) were also at its maximum value of 1.  This would give us 1 + 1 = 2.\n",
      "\n",
      "Similarly, the smallest possible value of the left-hand side would occur if both sin(x)^3 and -cos(x) were at their minimum values of -1. This would give us -1 - 1 = -2.\n",
      "\n",
      "The key takeaway here is that sin(x)^3 - cos(x) can *never* be equal to 4, since its range is limited to values between -2 and 2.  Therefore, the equation sin(x)^3 - cos(x) = 4 has *no solutions* within the real numbers. \n",
      "\n",
      "\n",
      "Excellent work! You've correctly determined that the equation $\\sin^3(x) - \\cos(x) = 4$ has no solution. This is a crucial finding and often overlooked. \n",
      "\n",
      "Now, to present this solution clearly:\n",
      "\n",
      "1. **Start by summarizing the problem:** Briefly restate the original equation and the goal of finding solutions for 'x'.\n",
      "\n",
      "2. **Explain the approach:** Mention that direct algebraic solutions were explored but found to be unsuitable.  Therefore, an analysis of the range of the left-hand side of the equation was performed.\n",
      "\n",
      "3. **State the key finding:** Clearly state that the left-hand side of the equation,  $\\sin^3(x) - \\cos(x)$,  can only take on values between -2 and 2. Emphasize that this range does *not* include the value 4.\n",
      "\n",
      "4. **Conclude definitively:**  State that \"Therefore, the equation $\\sin^3(x) - \\cos(x) = 4$ has *no solution* within the real numbers.\"\n",
      "\n",
      "It's important to present mathematical solutions with clarity and logical flow. This helps your audience understand not only the answer but also the reasoning behind it. \n",
      "\n"
     ]
    }
   ],
   "source": [
    "print(\"\\n\\n\".join(response['solved_steps']))"
   ]
  },
  {
   "cell_type": "code",
   "execution_count": 16,
   "metadata": {},
   "outputs": [
    {
     "data": {
      "text/plain": [
       "['**Analyze the Equation:** Identify the trigonometric functions involved (sine and cosine) and the degree of the equation (cubic due to sin(x)^3).',\n",
       " \"**Simplification (if possible):**  Attempt to simplify the equation. In this case, there's no straightforward trigonometric identity to simplify the equation directly.\",\n",
       " '**Strategic Approach:** Due to the mixed trigonometric functions and the cubic term, consider these potential strategies:',\n",
       " '  * **Numerical Methods:** Since a closed-form solution might be complex, explore numerical methods like the Newton-Raphson method or graphical analysis to approximate solutions.',\n",
       " '  * **Range Analysis:** Analyze the possible output ranges of sin(x)^3 and -cos(x).  Since each ranges from -1 to 1, their combination cannot exceed 2. This indicates there are NO solutions within the real number domain.',\n",
       " '**Solution Presentation:**  If employing numerical methods, clearly state the chosen method and any assumptions made (e.g., initial guess for Newton-Raphson). Present the solution(s) with appropriate accuracy. If no solution exists within the desired domain (as suggested by range analysis), state this conclusion explicitly.']"
      ]
     },
     "execution_count": 16,
     "metadata": {},
     "output_type": "execute_result"
    }
   ],
   "source": [
    "response['decomposed_steps']"
   ]
  },
  {
   "cell_type": "code",
   "execution_count": null,
   "metadata": {},
   "outputs": [],
   "source": []
  }
 ],
 "metadata": {
  "kernelspec": {
   "display_name": "Python 3",
   "language": "python",
   "name": "python3"
  },
  "language_info": {
   "codemirror_mode": {
    "name": "ipython",
    "version": 3
   },
   "file_extension": ".py",
   "mimetype": "text/x-python",
   "name": "python",
   "nbconvert_exporter": "python",
   "pygments_lexer": "ipython3",
   "version": "3.11.9"
  }
 },
 "nbformat": 4,
 "nbformat_minor": 2
}
