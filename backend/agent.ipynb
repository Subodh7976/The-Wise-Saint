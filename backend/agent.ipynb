{
 "cells": [
  {
   "cell_type": "code",
   "execution_count": 1,
   "metadata": {},
   "outputs": [],
   "source": [
    "from langchain_google_genai import ChatGoogleGenerativeAI\n",
    "\n",
    "llm = ChatGoogleGenerativeAI(model=\"gemini-1.5-pro\")"
   ]
  },
  {
   "cell_type": "code",
   "execution_count": 2,
   "metadata": {},
   "outputs": [],
   "source": [
    "from langgraph.graph import StateGraph, END \n",
    "from typing import TypedDict, List, Any\n",
    "from langgraph.checkpoint.sqlite import SqliteSaver \n",
    "from langchain_core.messages import SystemMessage, HumanMessage, AIMessage\n",
    "\n",
    "from prompts import *\n",
    "\n",
    "memory = SqliteSaver.from_conn_string(\":memory:\")"
   ]
  },
  {
   "cell_type": "code",
   "execution_count": 3,
   "metadata": {},
   "outputs": [],
   "source": [
    "class AgentState(TypedDict):\n",
    "    query: str \n",
    "    definition: str \n",
    "    decomposed_steps: List[str]\n",
    "    solved_steps: List[str]\n",
    "    step_history: List[Any]\n",
    "    completed_step: int"
   ]
  },
  {
   "cell_type": "code",
   "execution_count": 4,
   "metadata": {},
   "outputs": [],
   "source": [
    "from langchain_core.pydantic_v1 import BaseModel, Field\n",
    "from langchain.output_parsers import PydanticOutputParser\n",
    "\n",
    "class Steps(BaseModel):\n",
    "    steps: List[str]\n",
    "\n",
    "# class StepPlan(BaseModel):\n",
    "#     response: str = Field(\n",
    "#         \"Either contains solution of the step if calculator is not needed or\" \\\n",
    "#             \" includes the query for the calculator\"\n",
    "#     )\n",
    "#     use_calculator: bool = Field(\n",
    "#         \"defines whether to use calculator or the solution is already finished\"\n",
    "#     )\n",
    "\n",
    "class StepPlan(BaseModel):\n",
    "    response: str \n",
    "    use_calculator: bool"
   ]
  },
  {
   "cell_type": "code",
   "execution_count": 5,
   "metadata": {},
   "outputs": [],
   "source": [
    "def problem_definer_node(state: AgentState):\n",
    "    messages = [\n",
    "        SystemMessage(content=PROBLEM_DEFINER_PROMPT),\n",
    "        HumanMessage(content=state['query'])\n",
    "    ]\n",
    "    response = llm.invoke(messages)\n",
    "    return {\"definition\": response.content}"
   ]
  },
  {
   "cell_type": "code",
   "execution_count": 6,
   "metadata": {},
   "outputs": [],
   "source": [
    "def problem_decomposer_node(state: AgentState):\n",
    "    parser = PydanticOutputParser(pydantic_object=Steps)\n",
    "    \n",
    "    chain = llm | parser\n",
    "    system_message = f\"{PROBLEM_DECOMPOSER_PROMPT}\\n\\nFormat Instructions: {parser.get_format_instructions()}\"\n",
    "    \n",
    "    messages = [\n",
    "        SystemMessage(content=system_message),\n",
    "        HumanMessage(content=state['definition'])\n",
    "    ]\n",
    "    \n",
    "    steps = chain.invoke(messages)\n",
    "    return {\"decomposed_steps\": steps.steps}"
   ]
  },
  {
   "cell_type": "code",
   "execution_count": 7,
   "metadata": {},
   "outputs": [],
   "source": [
    "def step_iterator(state: AgentState):\n",
    "    print(\"Steps completed - \", state['completed_step'])\n",
    "    if (state['completed_step'] or 0) >= len(state['decomposed_steps']):\n",
    "        return \"end\"\n",
    "    return \"generate_step\""
   ]
  },
  {
   "cell_type": "code",
   "execution_count": 8,
   "metadata": {},
   "outputs": [],
   "source": [
    "def step_generator(state: AgentState):\n",
    "    solved_steps = state['solved_steps'] or []\n",
    "    step_count = state['completed_step'] or 0\n",
    "    messages = state['step_history'] or []\n",
    "    \n",
    "    parser = PydanticOutputParser(pydantic_object=StepPlan)\n",
    "    chain = llm | parser\n",
    "    \n",
    "    if len(messages) == 0:\n",
    "        system_message = STEP_GENERATOR_PROMPT.format(format_instructions=parser.get_format_instructions())\n",
    "        content = \"\\n\\n\".join(solved_steps)\n",
    "        human_content = f\"Original problem definition: {state['query']}. This is the solution so far: {content}\\n\\n and this is the description for next step: {state['decomposed_steps'][step_count]}\"\n",
    "        \n",
    "        messages = [\n",
    "            SystemMessage(content=system_message),\n",
    "            HumanMessage(content=human_content)\n",
    "        ]\n",
    "    \n",
    "    response = chain.invoke(messages)\n",
    "    messages.append(AIMessage(content=response.json()))\n",
    "    \n",
    "    return {\n",
    "        \"step_history\": messages\n",
    "    }"
   ]
  },
  {
   "cell_type": "code",
   "execution_count": 9,
   "metadata": {},
   "outputs": [],
   "source": [
    "def step_tool_decider(state: AgentState):\n",
    "    parser = PydanticOutputParser(pydantic_object=StepPlan)\n",
    "    last_response = state['step_history'][-1]\n",
    "    last_response = parser.parse(last_response.content)\n",
    "    \n",
    "    if last_response.use_calculator:\n",
    "        return \"calculator\"\n",
    "    return \"update_steps\""
   ]
  },
  {
   "cell_type": "code",
   "execution_count": 10,
   "metadata": {},
   "outputs": [],
   "source": [
    "def update_steps(state: AgentState):\n",
    "    parser = PydanticOutputParser(pydantic_object=StepPlan)\n",
    "    last_response = state['step_history'][-1]\n",
    "    last_response = parser.parse(last_response.content)\n",
    "    \n",
    "    step_count = state['completed_step'] or 0\n",
    "    step_count += 1\n",
    "    solved_steps = state['solved_steps'] or []\n",
    "    solved_steps.append(last_response.response)\n",
    "    \n",
    "    return {\n",
    "        \"completed_step\": step_count, \n",
    "        \"solved_steps\": solved_steps, \n",
    "        \"step_history\": []\n",
    "    }"
   ]
  },
  {
   "cell_type": "code",
   "execution_count": 11,
   "metadata": {},
   "outputs": [],
   "source": [
    "from langchain_community.utilities.wolfram_alpha import WolframAlphaAPIWrapper\n",
    "\n",
    "def calculator(state: AgentState):\n",
    "    parser = PydanticOutputParser(pydantic_object=StepPlan)\n",
    "    last_response = state['step_history'][-1]\n",
    "    last_response = parser.parse(last_response.content)\n",
    "    \n",
    "    wolfram = WolframAlphaAPIWrapper()\n",
    "    response = wolfram.run(last_response.response)\n",
    "    human_content = f\"With calculator response: {response}. Generate the whole solution.\"\n",
    "    messages = state['step_history']\n",
    "    messages.append(HumanMessage(\n",
    "        content=human_content\n",
    "    ))\n",
    "    \n",
    "    return {\n",
    "        \"step_history\": messages\n",
    "    }"
   ]
  },
  {
   "cell_type": "code",
   "execution_count": 12,
   "metadata": {},
   "outputs": [],
   "source": [
    "# def step_generator(state: AgentState):\n",
    "#     solved_steps = state['solved_steps'] or []\n",
    "#     step_count = state.get(\"completed_steps\", 0)\n",
    "#     while step_count != len(state['decomposed_steps']):\n",
    "#         content = \"\\n\\n\".join(solved_steps)\n",
    "#         human_content = f\"Original problem definition: {state['query']}. This is the solution so far: {content}\\n\\n and this is the description for next step: {state['decomposed_steps'][step_count]}\"\n",
    "        \n",
    "#         messages = [\n",
    "#             SystemMessage(content=STEP_GENERATOR_PROMPT),\n",
    "#             HumanMessage(content=human_content)\n",
    "#         ]\n",
    "#         response = llm.invoke(messages)\n",
    "#         solved_steps.append(response.content)\n",
    "#         step_count += 1\n",
    "    \n",
    "#     return {\n",
    "#         \"solved_steps\": solved_steps, \n",
    "#         \"completed_steps\": step_count\n",
    "#     }"
   ]
  },
  {
   "cell_type": "code",
   "execution_count": 13,
   "metadata": {},
   "outputs": [],
   "source": [
    "builder = StateGraph(AgentState)"
   ]
  },
  {
   "cell_type": "code",
   "execution_count": 14,
   "metadata": {},
   "outputs": [],
   "source": [
    "builder.add_node(\"definer\", problem_definer_node)\n",
    "builder.add_node(\"decomposer\", problem_decomposer_node)\n",
    "builder.add_node(\"solver\", step_generator)\n",
    "builder.add_node(\"calculator\", calculator)\n",
    "builder.add_node(\"steps_updater\", update_steps)\n",
    "builder.add_node(\"gateway_node\", lambda x:x)"
   ]
  },
  {
   "cell_type": "code",
   "execution_count": 15,
   "metadata": {},
   "outputs": [],
   "source": [
    "builder.set_entry_point(\"definer\")"
   ]
  },
  {
   "cell_type": "code",
   "execution_count": 16,
   "metadata": {},
   "outputs": [],
   "source": [
    "builder.add_edge(\"definer\", \"decomposer\")\n",
    "builder.add_edge(\"decomposer\", \"gateway_node\")\n",
    "builder.add_edge(\"steps_updater\", \"gateway_node\")\n",
    "builder.add_edge(\"calculator\", \"solver\")"
   ]
  },
  {
   "cell_type": "code",
   "execution_count": 17,
   "metadata": {},
   "outputs": [],
   "source": [
    "builder.add_conditional_edges(\n",
    "    \"gateway_node\", \n",
    "    step_iterator, \n",
    "    {\n",
    "        \"end\": END, \n",
    "        \"generate_step\": \"solver\"\n",
    "    }\n",
    ")\n",
    "builder.add_conditional_edges(\n",
    "    \"solver\", \n",
    "    step_tool_decider, \n",
    "    {\n",
    "        \"calculator\": \"calculator\",\n",
    "        \"update_steps\": \"steps_updater\"\n",
    "    }\n",
    ")"
   ]
  },
  {
   "cell_type": "code",
   "execution_count": 18,
   "metadata": {},
   "outputs": [],
   "source": [
    "graph = builder.compile(checkpointer=memory)"
   ]
  },
  {
   "cell_type": "code",
   "execution_count": 19,
   "metadata": {},
   "outputs": [
    {
     "data": {
      "image/png": "[encoded data removed]",
      "text/plain": [
       "<IPython.core.display.Image object>"
      ]
     },
     "execution_count": 19,
     "metadata": {},
     "output_type": "execute_result"
    }
   ],
   "source": [
    "from IPython.display import Image \n",
    "\n",
    "Image(graph.get_graph().draw_png())"
   ]
  },
  {
   "cell_type": "code",
   "execution_count": 20,
   "metadata": {},
   "outputs": [
    {
     "name": "stdout",
     "output_type": "stream",
     "text": [
      "Steps completed -  None\n",
      "Steps completed -  1\n",
      "Steps completed -  2\n"
     ]
    },
    {
     "name": "stderr",
     "output_type": "stream",
     "text": [
      "Retrying langchain_google_genai.chat_models._chat_with_retry.<locals>._chat_with_retry in 2.0 seconds as it raised ResourceExhausted: 429 Resource has been exhausted (e.g. check quota)..\n",
      "Retrying langchain_google_genai.chat_models._chat_with_retry.<locals>._chat_with_retry in 4.0 seconds as it raised ResourceExhausted: 429 Resource has been exhausted (e.g. check quota)..\n",
      "Retrying langchain_google_genai.chat_models._chat_with_retry.<locals>._chat_with_retry in 8.0 seconds as it raised ResourceExhausted: 429 Resource has been exhausted (e.g. check quota)..\n"
     ]
    },
    {
     "name": "stdout",
     "output_type": "stream",
     "text": [
      "Steps completed -  3\n",
      "Steps completed -  4\n",
      "Steps completed -  5\n"
     ]
    }
   ],
   "source": [
    "thread = {\"configurable\": {\"thread_id\": 1}}\n",
    "\n",
    "query = \"\"\" \n",
    "if x + y + z = pi, prove the trigonometric identity, \n",
    "cot(x/2) + cot(y/2) + cot(z/2) = cot(x/2) * cot(y/2) * cot(z/2)\n",
    "\"\"\"\n",
    "\n",
    "response = graph.invoke({\"query\": query}, thread)\n",
    "# for output in graph.stream({\"query\": \"What is the solution for x in sin(x)^3 - cos(x) = 4?\"}, thread, stream_mode=\"updates\"):\n",
    "#     # stream() yields dictionaries with output keyed by node name\n",
    "#     for key, value in output.items():\n",
    "#         print(f\"Output from node '{key}':\")\n",
    "#         print(\"---\")\n",
    "#         print(value)\n",
    "#     print(\"\\n---\\n\")"
   ]
  },
  {
   "cell_type": "code",
   "execution_count": 21,
   "metadata": {},
   "outputs": [
    {
     "name": "stdout",
     "output_type": "stream",
     "text": [
      "Applying the identity \\(cot(θ) = \\frac{cos(θ)}{sin(θ)}\\), we can rewrite the equation as:\n",
      "\n",
      "\\(\\frac{cos(x/2)}{sin(x/2)} + \\frac{cos(y/2)}{sin(y/2)} + \\frac{cos(z/2)}{sin(z/2)} = \\frac{cos(x/2)}{sin(x/2)} * \\frac{cos(y/2)}{sin(y/2)} * \\frac{cos(z/2)}{sin(z/2)}\\)\n",
      "\n",
      "Using the relationship \\(z = π - (x + y)\\), we can rewrite the equation as:\n",
      "\n",
      "\\[ \\frac{cos(x/2)}{sin(x/2)} + \\frac{cos(y/2)}{sin(y/2)} + \\frac{cos(\\frac{π - (x + y)}{2})}{sin(\\frac{π - (x + y)}{2})} = \\frac{cos(x/2)}{sin(x/2)} * \\frac{cos(y/2)}{sin(y/2)} * \\frac{cos(\\frac{π - (x + y)}{2})}{sin(\\frac{π - (x + y)}{2})} \\]\n",
      "\n",
      "Now, we'll apply the angle subtraction formulas:\n",
      "\n",
      "*  \\(cos(α - β) = cos(α)cos(β) + sin(α)sin(β)\\)\n",
      "*  \\(sin(α - β) = sin(α)cos(β) - cos(α)sin(β)\\)\n",
      "\n",
      "Applying the angle subtraction formulas to the left side of the equation, specifically to the terms  cos(\\(\\frac{π - (x + y)}{2}\\)) and sin(\\(\\frac{π - (x + y)}{2}\\)), we get:\n",
      "\n",
      "cos(\\(\\frac{π - (x + y)}{2}\\)) = cos(\\(\\frac{π}{2}\\) - \\(\\frac{x + y}{2}\\)) = cos(\\(\\frac{π}{2}\\))cos(\\(\\frac{x + y}{2}\\)) + sin(\\(\\frac{π}{2}\\))sin(\\(\\frac{x + y}{2}\\)) = sin(\\(\\frac{x + y}{2}\\))\n",
      "\n",
      "sin(\\(\\frac{π - (x + y)}{2}\\)) = sin(\\(\\frac{π}{2}\\) - \\(\\frac{x + y}{2}\\)) = sin(\\(\\frac{π}{2}\\))cos(\\(\\frac{x + y}{2}\\)) - cos(\\(\\frac{π}{2}\\))sin(\\(\\frac{x + y}{2}\\)) = cos(\\(\\frac{x + y}{2}\\))\n",
      "\n",
      "Substituting these back into the equation, we get:\n",
      "\n",
      "\\[ \\frac{cos(x/2)}{sin(x/2)} + \\frac{cos(y/2)}{sin(y/2)} + \\frac{sin(\\frac{x + y}{2})}{cos(\\frac{x + y}{2})} = \\frac{cos(x/2)}{sin(x/2)} * \\frac{cos(y/2)}{sin(y/2)} * \\frac{sin(\\frac{x + y}{2})}{cos(\\frac{x + y}{2})} \\]\n",
      "\n",
      "To proceed, we'll focus on combining the terms on the left-hand side of the equation. Notice that the first two terms resemble the result of a common denominator operation. Let's proceed with that:\n",
      "\n",
      "\\[ \\frac{cos(x/2)}{sin(x/2)} + \\frac{cos(y/2)}{sin(y/2)} + \\frac{sin(\\frac{x + y}{2})}{cos(\\frac{x + y}{2})} = \\frac{cos(\\frac{x}{2})sin(\\frac{y}{2}) + sin(\\frac{x}{2})cos(\\frac{y}{2})}{sin(\\frac{x}{2})sin(\\frac{y}{2})}  + \\frac{sin(\\frac{x + y}{2})}{cos(\\frac{x + y}{2})} \\]\n",
      "\n",
      "Now, we have a common denominator for the first two terms.  We will address the third term in the next step.\n",
      "\n",
      "Let's continue simplifying the left-hand side of the equation.  We will apply the angle addition formula to the numerator of the first term, and then find a common denominator to combine all terms. \n",
      "\n",
      "Recall the angle addition formula:  \\( sin(α + β) = sin(α)cos(β) + cos(α)sin(β) \\)\n",
      "\n",
      "Applying this to the numerator, we get:\n",
      "\n",
      "\\[ \\frac{cos(\\frac{x}{2})sin(\\frac{y}{2}) + sin(\\frac{x}{2})cos(\\frac{y}{2})}{sin(\\frac{x}{2})sin(\\frac{y}{2})}  + \\frac{sin(\\frac{x + y}{2})}{cos(\\frac{x + y}{2})}  = \\frac{sin(\\frac{x}{2} + \\frac{y}{2})}{sin(\\frac{x}{2})sin(\\frac{y}{2})}  + \\frac{sin(\\frac{x + y}{2})}{cos(\\frac{x + y}{2})}  = \\frac{sin(\\frac{x + y}{2})}{sin(\\frac{x}{2})sin(\\frac{y}{2})}  + \\frac{sin(\\frac{x + y}{2})}{cos(\\frac{x + y}{2})}\\]\n",
      "\n",
      "Finding a common denominator and adding the terms, we obtain:\n",
      "\n",
      "\\[ \\frac{sin(\\frac{x + y}{2})}{sin(\\frac{x}{2})sin(\\frac{y}{2})}  + \\frac{sin(\\frac{x + y}{2})}{cos(\\frac{x + y}{2})} = \\frac{sin(\\frac{x + y}{2})cos(\\frac{x + y}{2}) + sin(\\frac{x + y}{2})sin(\\frac{x}{2})sin(\\frac{y}{2})}{sin(\\frac{x}{2})sin(\\frac{y}{2})cos(\\frac{x + y}{2})}\\]\n",
      "\n",
      "Factoring out the common factor in the numerator, we have:\n",
      "\n",
      "\\[ \\frac{sin(\\frac{x + y}{2})cos(\\frac{x + y}{2}) + sin(\\frac{x + y}{2})sin(\\frac{x}{2})sin(\\frac{y}{2})}{sin(\\frac{x}{2})sin(\\frac{y}{2})cos(\\frac{x + y}{2})} = \\frac{sin(\\frac{x + y}{2})(cos(\\frac{x + y}{2}) + sin(\\frac{x}{2})sin(\\frac{y}{2}))}{sin(\\frac{x}{2})sin(\\frac{y}{2})cos(\\frac{x + y}{2})}\\]\n"
     ]
    }
   ],
   "source": [
    "print(\"\\n\\n\".join(response['solved_steps']))"
   ]
  },
  {
   "cell_type": "code",
   "execution_count": 22,
   "metadata": {},
   "outputs": [
    {
     "data": {
      "text/plain": [
       "['**Step 1: Express cotangent in terms of sine and cosine.** Use the identity cot(θ) = cos(θ)/sin(θ) to rewrite both sides of the equation.',\n",
       " '**Step 2: Apply angle addition and subtraction formulas.**  Use the fact that x + y + z = π to express angles in terms of one another. For example, express z = π - (x + y) and use angle subtraction formulas for sine and cosine.',\n",
       " '**Step 3: Simplify the expressions.** Use trigonometric identities to simplify the resulting expressions. Look for common factors and terms that can be canceled.',\n",
       " '**Step 4: Manipulate the equation algebraically.** Combine terms, factor, and rearrange the equation to transform the left-hand side into the right-hand side.',\n",
       " '**Step 5: Verify the identity.**  After algebraic manipulation, the left-hand side should be identical to the right-hand side, proving the trigonometric identity.']"
      ]
     },
     "execution_count": 22,
     "metadata": {},
     "output_type": "execute_result"
    }
   ],
   "source": [
    "response['decomposed_steps']"
   ]
  },
  {
   "cell_type": "code",
   "execution_count": 23,
   "metadata": {},
   "outputs": [
    {
     "name": "stdout",
     "output_type": "stream",
     "text": [
      "## Problem Statement:\n",
      "\n",
      "**Problem Classification:** Trigonometric Identity Proof\n",
      "\n",
      "**Given:** \n",
      "* x, y, and z are angles such that: \n",
      "    *  x + y + z = π \n",
      "\n",
      "**To Prove:**\n",
      "* cot(x/2) + cot(y/2) + cot(z/2) = cot(x/2) * cot(y/2) * cot(z/2)\n",
      "\n",
      "**Available Formulas:**\n",
      "* Standard trigonometric identities and formulas related to cotangent, such as:\n",
      "    * cot(θ) = 1/tan(θ) = cos(θ)/sin(θ)\n",
      "    * Double angle and half-angle formulas.\n",
      "\n",
      "**Additional Description:** The problem requires proving a trigonometric identity involving the cotangent function, given the constraint that the sum of three angles equals pi (π radians or 180 degrees).  The proof should utilize trigonometric identities and algebraic manipulation to demonstrate the equality of the given expressions. \n",
      "\n"
     ]
    }
   ],
   "source": [
    "print(response['definition'])"
   ]
  },
  {
   "cell_type": "code",
   "execution_count": null,
   "metadata": {},
   "outputs": [],
   "source": []
  }
 ],
 "metadata": {
  "kernelspec": {
   "display_name": "Python 3",
   "language": "python",
   "name": "python3"
  },
  "language_info": {
   "codemirror_mode": {
    "name": "ipython",
    "version": 3
   },
   "file_extension": ".py",
   "mimetype": "text/x-python",
   "name": "python",
   "nbconvert_exporter": "python",
   "pygments_lexer": "ipython3",
   "version": "3.11.9"
  }
 },
 "nbformat": 4,
 "nbformat_minor": 2
}
