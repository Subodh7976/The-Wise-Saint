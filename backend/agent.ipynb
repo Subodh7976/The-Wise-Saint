{
 "cells": [
  {
   "cell_type": "code",
   "execution_count": 28,
   "metadata": {},
   "outputs": [],
   "source": [
    "from langchain_google_genai import ChatGoogleGenerativeAI\n",
    "\n",
    "llm = ChatGoogleGenerativeAI(model=\"gemini-1.5-pro\")"
   ]
  },
  {
   "cell_type": "code",
   "execution_count": 9,
   "metadata": {},
   "outputs": [],
   "source": [
    "from langgraph.graph import StateGraph, END \n",
    "from typing import TypedDict, List\n",
    "from langgraph.checkpoint.sqlite import SqliteSaver \n",
    "from langchain_core.messages import SystemMessage, HumanMessage\n",
    "\n",
    "from prompts import *\n",
    "\n",
    "memory = SqliteSaver.from_conn_string(\":memory:\")"
   ]
  },
  {
   "cell_type": "code",
   "execution_count": 5,
   "metadata": {},
   "outputs": [],
   "source": [
    "class AgentState(TypedDict):\n",
    "    query: str \n",
    "    definition: str \n",
    "    decomposed_steps: List[str]\n",
    "    solved_steps: List[str]\n",
    "    completed_step: int"
   ]
  },
  {
   "cell_type": "code",
   "execution_count": 38,
   "metadata": {},
   "outputs": [],
   "source": [
    "from langchain_core.pydantic_v1 import BaseModel\n",
    "from langchain.output_parsers import PydanticOutputParser\n",
    "\n",
    "class Steps(BaseModel):\n",
    "    steps: List[str]"
   ]
  },
  {
   "cell_type": "code",
   "execution_count": 11,
   "metadata": {},
   "outputs": [],
   "source": [
    "def problem_definer_node(state: AgentState):\n",
    "    messages = [\n",
    "        SystemMessage(content=PROBLEM_DEFINER_PROMPT),\n",
    "        HumanMessage(content=state['query'])\n",
    "    ]\n",
    "    response = llm.invoke(messages)\n",
    "    return {\"definition\": response.content}"
   ]
  },
  {
   "cell_type": "code",
   "execution_count": 48,
   "metadata": {},
   "outputs": [
    {
     "ename": "ValidationError",
     "evalue": "1 validation error for Generation\ntext\n  str type expected (type=type_error.str)",
     "output_type": "error",
     "traceback": [
      "\u001b[0;31m---------------------------------------------------------------------------\u001b[0m",
      "\u001b[0;31mValidationError\u001b[0m                           Traceback (most recent call last)",
      "Cell \u001b[0;32mIn[48], line 11\u001b[0m\n\u001b[1;32m      4\u001b[0m system_message \u001b[38;5;241m=\u001b[39m \u001b[38;5;124mf\u001b[39m\u001b[38;5;124m\"\u001b[39m\u001b[38;5;132;01m{\u001b[39;00mPROBLEM_DECOMPOSER_PROMPT\u001b[38;5;132;01m}\u001b[39;00m\u001b[38;5;130;01m\\n\u001b[39;00m\u001b[38;5;130;01m\\n\u001b[39;00m\u001b[38;5;124mFormat Instructions: \u001b[39m\u001b[38;5;132;01m{\u001b[39;00mparser\u001b[38;5;241m.\u001b[39mget_format_instructions()\u001b[38;5;132;01m}\u001b[39;00m\u001b[38;5;124m\"\u001b[39m\n\u001b[1;32m      6\u001b[0m messages \u001b[38;5;241m=\u001b[39m [\n\u001b[1;32m      7\u001b[0m         SystemMessage(content\u001b[38;5;241m=\u001b[39msystem_message),\n\u001b[1;32m      8\u001b[0m         HumanMessage(content\u001b[38;5;241m=\u001b[39m\u001b[38;5;124m\"\u001b[39m\u001b[38;5;124mSolve for x and y in the equations x + y = 10 and 2x - y = 4.\u001b[39m\u001b[38;5;124m\"\u001b[39m)\n\u001b[1;32m      9\u001b[0m     ]\n\u001b[0;32m---> 11\u001b[0m steps \u001b[38;5;241m=\u001b[39m \u001b[43mparser\u001b[49m\u001b[38;5;241;43m.\u001b[39;49m\u001b[43mparse\u001b[49m\u001b[43m(\u001b[49m\u001b[43mchain\u001b[49m\u001b[38;5;241;43m.\u001b[39;49m\u001b[43minvoke\u001b[49m\u001b[43m(\u001b[49m\u001b[43mmessages\u001b[49m\u001b[43m)\u001b[49m\u001b[43m)\u001b[49m\n",
      "File \u001b[0;32m/usr/local/lib/python3.11/site-packages/langchain_core/output_parsers/pydantic.py:64\u001b[0m, in \u001b[0;36mPydanticOutputParser.parse\u001b[0;34m(self, text)\u001b[0m\n\u001b[1;32m     63\u001b[0m \u001b[38;5;28;01mdef\u001b[39;00m \u001b[38;5;21mparse\u001b[39m(\u001b[38;5;28mself\u001b[39m, text: \u001b[38;5;28mstr\u001b[39m) \u001b[38;5;241m-\u001b[39m\u001b[38;5;241m>\u001b[39m TBaseModel:\n\u001b[0;32m---> 64\u001b[0m     \u001b[38;5;28;01mreturn\u001b[39;00m \u001b[38;5;28;43msuper\u001b[39;49m\u001b[43m(\u001b[49m\u001b[43m)\u001b[49m\u001b[38;5;241;43m.\u001b[39;49m\u001b[43mparse\u001b[49m\u001b[43m(\u001b[49m\u001b[43mtext\u001b[49m\u001b[43m)\u001b[49m\n",
      "File \u001b[0;32m/usr/local/lib/python3.11/site-packages/langchain_core/output_parsers/json.py:72\u001b[0m, in \u001b[0;36mJsonOutputParser.parse\u001b[0;34m(self, text)\u001b[0m\n\u001b[1;32m     71\u001b[0m \u001b[38;5;28;01mdef\u001b[39;00m \u001b[38;5;21mparse\u001b[39m(\u001b[38;5;28mself\u001b[39m, text: \u001b[38;5;28mstr\u001b[39m) \u001b[38;5;241m-\u001b[39m\u001b[38;5;241m>\u001b[39m Any:\n\u001b[0;32m---> 72\u001b[0m     \u001b[38;5;28;01mreturn\u001b[39;00m \u001b[38;5;28mself\u001b[39m\u001b[38;5;241m.\u001b[39mparse_result([\u001b[43mGeneration\u001b[49m\u001b[43m(\u001b[49m\u001b[43mtext\u001b[49m\u001b[38;5;241;43m=\u001b[39;49m\u001b[43mtext\u001b[49m\u001b[43m)\u001b[49m])\n",
      "File \u001b[0;32m/usr/local/lib/python3.11/site-packages/pydantic/v1/main.py:341\u001b[0m, in \u001b[0;36mBaseModel.__init__\u001b[0;34m(__pydantic_self__, **data)\u001b[0m\n\u001b[1;32m    339\u001b[0m values, fields_set, validation_error \u001b[38;5;241m=\u001b[39m validate_model(__pydantic_self__\u001b[38;5;241m.\u001b[39m\u001b[38;5;18m__class__\u001b[39m, data)\n\u001b[1;32m    340\u001b[0m \u001b[38;5;28;01mif\u001b[39;00m validation_error:\n\u001b[0;32m--> 341\u001b[0m     \u001b[38;5;28;01mraise\u001b[39;00m validation_error\n\u001b[1;32m    342\u001b[0m \u001b[38;5;28;01mtry\u001b[39;00m:\n\u001b[1;32m    343\u001b[0m     object_setattr(__pydantic_self__, \u001b[38;5;124m'\u001b[39m\u001b[38;5;124m__dict__\u001b[39m\u001b[38;5;124m'\u001b[39m, values)\n",
      "\u001b[0;31mValidationError\u001b[0m: 1 validation error for Generation\ntext\n  str type expected (type=type_error.str)"
     ]
    }
   ],
   "source": [
    "parser = PydanticOutputParser(pydantic_object=Steps)\n",
    "    \n",
    "chain = llm | parser\n",
    "system_message = f\"{PROBLEM_DECOMPOSER_PROMPT}\\n\\nFormat Instructions: {parser.get_format_instructions()}\"\n",
    "    \n",
    "messages = [\n",
    "        SystemMessage(content=system_message),\n",
    "        HumanMessage(content=\"Solve for x and y in the equations x + y = 10 and 2x - y = 4.\")\n",
    "    ]\n",
    "    \n",
    "print(type())\n",
    "steps = parser.parse(chain.invoke(messages))"
   ]
  },
  {
   "cell_type": "code",
   "execution_count": 49,
   "metadata": {},
   "outputs": [],
   "source": [
    "resp = chain.invoke(messages)"
   ]
  },
  {
   "cell_type": "code",
   "execution_count": 50,
   "metadata": {},
   "outputs": [
    {
     "name": "stdout",
     "output_type": "stream",
     "text": [
      "<class '__main__.Steps'>\n"
     ]
    }
   ],
   "source": [
    "print(type(resp))"
   ]
  },
  {
   "cell_type": "code",
   "execution_count": 51,
   "metadata": {},
   "outputs": [
    {
     "data": {
      "text/plain": [
       "[\"**Step 1: Solve for one variable in terms of the other.** Choose one of the equations and solve for either x or y. For this example, let's solve the first equation (x + y = 10) for x:  x = 10 - y\",\n",
       " '**Step 2: Substitute the expression.** Substitute the expression you just derived (x = 10 - y) into the second equation (2x - y = 4) in place of x: 2(10 - y) - y = 4',\n",
       " '**Step 3: Simplify and solve for y.** Distribute the 2: 20 - 2y - y = 4. Combine like terms: 20 - 3y = 4. Subtract 20 from both sides: -3y = -16. Divide both sides by -3: y = 16/3',\n",
       " \"**Step 4: Substitute the value of y to solve for x.** Substitute the value of y (16/3) back into either of the original equations. Let's use the first equation (x + y = 10): x + (16/3) = 10\",\n",
       " '**Step 5: Solve for x.** Subtract (16/3) from both sides: x = 10 - (16/3).  Find a common denominator: x = (30/3) - (16/3). Simplify: x = 14/3',\n",
       " '**Solution:** The solution to the system of equations is x = 14/3 and y = 16/3.']"
      ]
     },
     "execution_count": 51,
     "metadata": {},
     "output_type": "execute_result"
    }
   ],
   "source": [
    "resp.steps"
   ]
  },
  {
   "cell_type": "code",
   "execution_count": 52,
   "metadata": {},
   "outputs": [],
   "source": [
    "def problem_decomposer_node(state: AgentState):\n",
    "    parser = PydanticOutputParser(pydantic_object=Steps)\n",
    "    \n",
    "    chain = llm | parser\n",
    "    system_message = f\"{PROBLEM_DECOMPOSER_PROMPT}\\n\\nFormat Instructions: {parser.get_format_instructions()}\"\n",
    "    \n",
    "    messages = [\n",
    "        SystemMessage(content=system_message),\n",
    "        HumanMessage(content=state['definition'])\n",
    "    ]\n",
    "    \n",
    "    steps = chain.invoke(messages)\n",
    "    return {\"decomposed_steps\": steps.steps}"
   ]
  },
  {
   "cell_type": "code",
   "execution_count": 19,
   "metadata": {},
   "outputs": [],
   "source": [
    "def step_generator(state: AgentState):\n",
    "    solved_steps = state['solved_steps'] or []\n",
    "    step_count = state.get(\"completed_steps\", 0)\n",
    "    while step_count != len(state['decomposed_steps']):\n",
    "        content = \"\\n\\n\".join(solved_steps)\n",
    "        human_content = f\"This is the solution so far: {content}\\n\\n and this is the description for next step: {state['decomposed_steps'][step_count]}\"\n",
    "        \n",
    "        messages = [\n",
    "            SystemMessage(content=STEP_GENERATOR_PROMPT),\n",
    "            HumanMessage(content=human_content)\n",
    "        ]\n",
    "        response = llm.invoke(messages)\n",
    "        solved_steps.append(response.content)\n",
    "        step_count += 1\n",
    "    \n",
    "    return {\n",
    "        \"solved_steps\": solved_steps, \n",
    "        \"completed_steps\": step_count\n",
    "    }"
   ]
  },
  {
   "cell_type": "code",
   "execution_count": 53,
   "metadata": {},
   "outputs": [],
   "source": [
    "builder = StateGraph(AgentState)"
   ]
  },
  {
   "cell_type": "code",
   "execution_count": 54,
   "metadata": {},
   "outputs": [],
   "source": [
    "builder.add_node(\"definer\", problem_definer_node)\n",
    "builder.add_node(\"decomposer\", problem_decomposer_node)\n",
    "builder.add_node(\"solver\", step_generator)"
   ]
  },
  {
   "cell_type": "code",
   "execution_count": 55,
   "metadata": {},
   "outputs": [],
   "source": [
    "builder.set_entry_point(\"definer\")"
   ]
  },
  {
   "cell_type": "code",
   "execution_count": 56,
   "metadata": {},
   "outputs": [],
   "source": [
    "builder.add_edge(\"definer\", \"decomposer\")\n",
    "builder.add_edge(\"decomposer\", \"solver\")\n",
    "builder.add_edge(\"solver\", END)"
   ]
  },
  {
   "cell_type": "code",
   "execution_count": 57,
   "metadata": {},
   "outputs": [],
   "source": [
    "graph = builder.compile(checkpointer=memory)"
   ]
  },
  {
   "cell_type": "code",
   "execution_count": 58,
   "metadata": {},
   "outputs": [
    {
     "data": {
      "image/png": "[encoded data removed]",
      "text/plain": [
       "<IPython.core.display.Image object>"
      ]
     },
     "execution_count": 58,
     "metadata": {},
     "output_type": "execute_result"
    }
   ],
   "source": [
    "from IPython.display import Image \n",
    "\n",
    "Image(graph.get_graph().draw_png())"
   ]
  },
  {
   "cell_type": "code",
   "execution_count": 59,
   "metadata": {},
   "outputs": [
    {
     "name": "stderr",
     "output_type": "stream",
     "text": [
      "Retrying langchain_google_genai.chat_models._chat_with_retry.<locals>._chat_with_retry in 2.0 seconds as it raised ResourceExhausted: 429 Resource has been exhausted (e.g. check quota)..\n",
      "Retrying langchain_google_genai.chat_models._chat_with_retry.<locals>._chat_with_retry in 4.0 seconds as it raised ResourceExhausted: 429 Resource has been exhausted (e.g. check quota)..\n"
     ]
    }
   ],
   "source": [
    "thread = {\"configurable\": {\"thread_id\": 1}}\n",
    "\n",
    "response = graph.invoke({\"query\": \"What is the solution for x in sin(x)^3 - cos(x) = 4?\"}, thread)"
   ]
  },
  {
   "cell_type": "code",
   "execution_count": 63,
   "metadata": {},
   "outputs": [
    {
     "name": "stdout",
     "output_type": "stream",
     "text": [
      "Excellent!  Now that we have our equation, let's see if we can make it easier to work with. \n",
      "\n",
      "Our current equation likely has a mix of trigonometric functions like sine, cosine, tangent, etc.  The goal of this simplification step is to see if we can use trigonometric identities to make the equation less complicated.\n",
      "\n",
      "For example, remember the Pythagorean identity:  sin²(x) + cos²(x) = 1.  If we see something like sin²(x) and cos²(x) in our equation, we can replace them with 1.  This can be a powerful way to reduce the number of terms or even eliminate a trigonometric function entirely.\n",
      "\n",
      "So, carefully examine the equation you have.  Look for any opportunities to apply known trigonometric identities and simplify.  The aim is to express the equation in the simplest form possible, ideally in terms of just one trigonometric function. \n",
      "\n",
      "\n",
      "Okay, we've successfully simplified our equation using trigonometric identities.  That's great! Now, before we dive into more complex solution methods, let's take a moment to see if we got lucky. \n",
      "\n",
      "This step is like looking for a shortcut.  We need to check if our simplified equation includes familiar trigonometric values.  For example, do you see terms like sin(30°), cos(60°), tan(45°), or their radian equivalents?  These are special angles whose trigonometric values we already know.\n",
      "\n",
      "If you spot any of these special values in your equation, substitute them with their known numerical equivalents. This can significantly simplify the equation and, in some cases, might even directly lead you to the solution! \n",
      "\n",
      "\n",
      "Alright, it seems we've exhausted the possibilities of simplifying our equation using trigonometric identities and checking for special angles. That's perfectly fine! It just means we need a bit more firepower to crack this nut. \n",
      "\n",
      "**Step 3: Numerical or Graphical Analysis**\n",
      "\n",
      "This step introduces the idea of using tools and techniques that can help us find approximate solutions when directly solving the equation proves difficult. Here's the breakdown:\n",
      "\n",
      "* **Numerical Methods:** Imagine having a powerful calculator that can do much more than basic arithmetic. These \"numerical solvers\" exist and can help us find solutions to complex equations. We essentially feed the equation into the solver, and it uses clever algorithms to approximate the values of the unknown variable that make the equation true. \n",
      "\n",
      "* **Graphical Analysis:** Remember that trigonometric functions can be visualized as waves on a graph?  By plotting our simplified equation on a graph, we can visually identify the points where it intersects the x-axis. These intersection points represent the solutions to our equation. While this method might not give us exact solutions, it offers a great visual representation and helps us understand the behavior of the equation.\n",
      "\n",
      "So, even though we couldn't directly solve the equation through simplification, these numerical and graphical methods provide us with powerful alternatives to approximate the solutions and gain valuable insights into the problem. \n",
      "\n",
      "\n",
      "Great! We've now explored numerical and graphical methods to find potential solutions to our tricky trigonometric equation.  But the journey isn't over yet! It's time for the crucial step of **solution validation**.\n",
      "\n",
      "Think of it like this: you've baked a cake using a new recipe (solving the equation).  You followed all the steps, but you need to make sure it actually tastes good! That's what we're doing here – double-checking our work.\n",
      "\n",
      "Remember that both numerical and graphical methods often provide *approximate* solutions. So, we need to make sure these approximations actually work in the context of our original equation.\n",
      "\n",
      "Here's how to do it:\n",
      "\n",
      "1. **Take each solution** you obtained from the numerical or graphical analysis.\n",
      "2. **Substitute** these values back into the **original** trigonometric equation.\n",
      "3. **Carefully evaluate** both sides of the equation.  If both sides are equal (or very close, considering rounding), then the solution is valid!\n",
      "\n",
      "This step is essential to ensure we haven't introduced any errors during simplification or picked up extraneous solutions from our approximation methods.  It's the final stamp of approval on our hard work! \n",
      "\n",
      "\n",
      "Excellent work so far! We've found potential solutions to our trigonometric equation. However, we need to remember that trigonometric functions are cyclical – they repeat their values in a regular pattern. This characteristic is called **periodicity**. \n",
      "\n",
      "Think of the sine function as an example. It has a period of 2π, meaning it produces the same output values every 2π units along the x-axis. So, if we've found one solution, we can find infinitely many more by simply adding or subtracting multiples of 2π.\n",
      "\n",
      "Here's how to incorporate periodicity into our solutions:\n",
      "\n",
      "1. **Identify the functions:** Look at your original equation and determine the trigonometric functions involved (sine, cosine, tangent, etc.).\n",
      "\n",
      "2. **Determine the period:**  Recall the periods of these functions:\n",
      "    * Sine, Cosine: 2π\n",
      "    * Tangent: π \n",
      "    * Other functions may have different periods.\n",
      "\n",
      "3. **Generalize the solution:** If your initial solution is 'x', then the general solution, considering periodicity, would be:\n",
      "    *  x + 2kπ (for sine and cosine)\n",
      "    *  x + kπ (for tangent)\n",
      "    ... where 'k' is any integer (positive or negative). \n",
      "\n",
      "4. **Specific Interval:** If the problem specifies an interval (like 0 ≤ x < 2π), then find all the solutions within that interval by plugging in different integer values for 'k'.\n",
      "\n",
      "By considering periodicity, we ensure that we've captured all possible solutions to our trigonometric equation. This step is crucial for providing a complete and accurate answer. \n",
      "\n"
     ]
    }
   ],
   "source": [
    "print(\"\\n\\n\".join(response['solved_steps']))"
   ]
  },
  {
   "cell_type": "code",
   "execution_count": 64,
   "metadata": {},
   "outputs": [
    {
     "data": {
      "text/plain": [
       "['**Step 1: Simplification:** Attempt to simplify the equation by applying trigonometric identities. Explore possibilities of expressing the equation in terms of a single trigonometric function (e.g., using the Pythagorean identity sin^2(x) + cos^2(x) = 1).',\n",
       " '**Step 2: Analyze for Special Cases:** Check if the given equation represents any special trigonometric values or angles that have known solutions (e.g., sin(30°) = 0.5).',\n",
       " '**Step 3: Numerical or Graphical Analysis:** If simplification using identities is not straightforward, consider using numerical methods (e.g., graphing calculators, numerical solvers) or graphical analysis to approximate solutions.',\n",
       " '**Step 4: Solution Validation:** Substitute the obtained solution(s) back into the original equation to verify if they hold true.',\n",
       " '**Step 5: Periodicity Consideration:** Account for the periodic nature of trigonometric functions. Determine all possible solutions within a specified interval or the general solution by adding multiples of the period of the involved functions.']"
      ]
     },
     "execution_count": 64,
     "metadata": {},
     "output_type": "execute_result"
    }
   ],
   "source": [
    "response['decomposed_steps']"
   ]
  },
  {
   "cell_type": "code",
   "execution_count": null,
   "metadata": {},
   "outputs": [],
   "source": []
  }
 ],
 "metadata": {
  "kernelspec": {
   "display_name": "Python 3",
   "language": "python",
   "name": "python3"
  },
  "language_info": {
   "codemirror_mode": {
    "name": "ipython",
    "version": 3
   },
   "file_extension": ".py",
   "mimetype": "text/x-python",
   "name": "python",
   "nbconvert_exporter": "python",
   "pygments_lexer": "ipython3",
   "version": "3.11.9"
  }
 },
 "nbformat": 4,
 "nbformat_minor": 2
}
