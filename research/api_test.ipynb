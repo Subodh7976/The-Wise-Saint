{
 "cells": [
  {
   "cell_type": "code",
   "execution_count": 4,
   "metadata": {},
   "outputs": [
    {
     "name": "stdout",
     "output_type": "stream",
     "text": [
      "As an AI language model, I do not have personal experiences, thoughts, or feelings, and therefore, I do not have a self to describe. I am a computer program designed to process and generate language, and do not possess the capacity for self-awareness or personal identity.\n"
     ]
    }
   ],
   "source": [
    "import google.generativeai as genai\n",
    "import os\n",
    "\n",
    "genai.configure(api_key=os.environ['GEMINI_API_KEY'])\n",
    "\n",
    "model = genai.GenerativeModel('gemini-pro')\n",
    "response = model.generate_content('Please tell me about yourself: ...')\n",
    "\n",
    "print(response.text)\n"
   ]
  },
  {
   "cell_type": "code",
   "execution_count": 5,
   "metadata": {},
   "outputs": [
    {
     "name": "stdout",
     "output_type": "stream",
     "text": [
      "1. **Factor 48 into its prime factors:** 48 = 2^4 * 3\n",
      "2. **Determine the possible group orders for the subgroups:**\n",
      "   - Order 1\n",
      "   - Order 2\n",
      "   - Order 3\n",
      "   - Order 4\n",
      "   - Order 6\n",
      "   - Order 8\n",
      "   - Order 12\n",
      "   - Order 16\n",
      "   - Order 24\n",
      "   - Order 48\n",
      "3. **Apply Sylow's Theorems:**\n",
      "   - Sylow p-subgroup theorem: Determine the number of Sylow p-subgroups for each prime factor p of 48.\n",
      "   - Sylow subgroup theorem: Determine the possible orders of the Sylow p-subgroups.\n",
      "4. **Use the group order formula:** |G| = |Z(G)| * |G/Z(G)| to find the number of non-isomorphic groups of order 48.\n",
      "5. **Identify the non-abelian groups:** Based on the group structure, determine which of the non-isomorphic groups are non-abelian.\n"
     ]
    }
   ],
   "source": [
    "prompt = \"\"\"\n",
    "    Given the proble:\n",
    "\n",
    "    Find the number of non-isomorphic groups of order 48 and state which ones are non-abelian.\n",
    "\n",
    "Write only the steps which will be required to solve this problem, with the equation involved if any.\n",
    "\"\"\"\n",
    "response = model.generate_content(prompt)\n",
    "print(response.text)"
   ]
  },
  {
   "cell_type": "code",
   "execution_count": 5,
   "metadata": {},
   "outputs": [
    {
     "name": "stdout",
     "output_type": "stream",
     "text": [
      "**The Magic Backpack**\n",
      "\n",
      "In a realm where dreams take flight,\n",
      "There's a backpack with powers bright.\n",
      "Its fabric shimmers, a vibrant hue,\n",
      "A portal to wonders, both old and new.\n",
      "\n",
      "With every step, it whispers low,\n",
      "Unveiling secrets, making dreams grow.\n",
      "Its pockets hold treasures beyond compare,\n",
      "A universe of magic, beyond compare.\n",
      "\n",
      "A book of spells, its pages unfold,\n",
      "Unveiling wisdom, stories untold.\n",
      "A wand of light, its power ablaze,\n",
      "Igniting dreams, setting hearts ablaze.\n",
      "\n",
      "A compass guides, through paths unknown,\n",
      "Leading to adventures, where dreams are sown.\n",
      "A telescope, its lens so clear,\n",
      "Revealing stars, dispelling fear.\n",
      "\n",
      "A paintbrush dances, colors bright,\n",
      "Creating worlds, with every stroke of light.\n",
      "A musical instrument, its notes so sweet,\n",
      "Filling the air with melodies, a rhythmic treat.\n",
      "\n",
      "But more than treasures, it holds within,\n",
      "A spark of hope, where dreams begin.\n",
      "It whispers courage, dispels the doubt,\n",
      "Empowering hearts, making dreams sprout.\n",
      "\n",
      "So let us embrace this magic pack,\n",
      "And embark on journeys, where dreams unpack.\n",
      "For in its depths, a world awaits,\n",
      "Where imagination soars, and fate elates.\n"
     ]
    }
   ],
   "source": [
    "from llama_index.llms.gemini import Gemini\n",
    "\n",
    "resp = Gemini(model_name=\"models/gemini-pro\").complete(\"Write a poem about a magic backpack\")\n",
    "print(resp)"
   ]
  },
  {
   "cell_type": "code",
   "execution_count": null,
   "metadata": {},
   "outputs": [],
   "source": []
  }
 ],
 "metadata": {
  "kernelspec": {
   "display_name": "Python 3",
   "language": "python",
   "name": "python3"
  },
  "language_info": {
   "codemirror_mode": {
    "name": "ipython",
    "version": 3
   },
   "file_extension": ".py",
   "mimetype": "text/x-python",
   "name": "python",
   "nbconvert_exporter": "python",
   "pygments_lexer": "ipython3",
   "version": "3.11.9"
  }
 },
 "nbformat": 4,
 "nbformat_minor": 2
}
