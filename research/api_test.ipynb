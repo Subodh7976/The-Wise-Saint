{
 "cells": [
  {
   "cell_type": "code",
   "execution_count": 3,
   "metadata": {},
   "outputs": [
    {
     "name": "stdout",
     "output_type": "stream",
     "text": [
      "As an AI language model, I don't have a personal identity or life experiences like humans. I am designed to assist and provide information to the best of my knowledge and capabilities within the parameters of my training data.\n"
     ]
    }
   ],
   "source": [
    "import google.generativeai as genai\n",
    "import os\n",
    "\n",
    "genai.configure(api_key=os.environ['GOOGLE_API_KEY'])\n",
    "\n",
    "model = genai.GenerativeModel('gemini-pro')\n",
    "response = model.generate_content('Please tell me about yourself: ...')\n",
    "\n",
    "print(response.text)\n"
   ]
  },
  {
   "cell_type": "code",
   "execution_count": 5,
   "metadata": {},
   "outputs": [
    {
     "name": "stdout",
     "output_type": "stream",
     "text": [
      "1. **Factor 48 into its prime factors:** 48 = 2^4 * 3\n",
      "2. **Determine the possible group orders for the subgroups:**\n",
      "   - Order 1\n",
      "   - Order 2\n",
      "   - Order 3\n",
      "   - Order 4\n",
      "   - Order 6\n",
      "   - Order 8\n",
      "   - Order 12\n",
      "   - Order 16\n",
      "   - Order 24\n",
      "   - Order 48\n",
      "3. **Apply Sylow's Theorems:**\n",
      "   - Sylow p-subgroup theorem: Determine the number of Sylow p-subgroups for each prime factor p of 48.\n",
      "   - Sylow subgroup theorem: Determine the possible orders of the Sylow p-subgroups.\n",
      "4. **Use the group order formula:** |G| = |Z(G)| * |G/Z(G)| to find the number of non-isomorphic groups of order 48.\n",
      "5. **Identify the non-abelian groups:** Based on the group structure, determine which of the non-isomorphic groups are non-abelian.\n"
     ]
    }
   ],
   "source": [
    "prompt = \"\"\"\n",
    "    Given the proble:\n",
    "\n",
    "    Find the number of non-isomorphic groups of order 48 and state which ones are non-abelian.\n",
    "\n",
    "Write only the steps which will be required to solve this problem, with the equation involved if any.\n",
    "\"\"\"\n",
    "response = model.generate_content(prompt)\n",
    "print(response.text)"
   ]
  },
  {
   "cell_type": "code",
   "execution_count": 5,
   "metadata": {},
   "outputs": [
    {
     "name": "stdout",
     "output_type": "stream",
     "text": [
      "**The Magic Backpack**\n",
      "\n",
      "In a realm where dreams take flight,\n",
      "There's a backpack with powers bright.\n",
      "Its fabric shimmers, a vibrant hue,\n",
      "A portal to wonders, both old and new.\n",
      "\n",
      "With every step, it whispers low,\n",
      "Unveiling secrets, making dreams grow.\n",
      "Its pockets hold treasures beyond compare,\n",
      "A universe of magic, beyond compare.\n",
      "\n",
      "A book of spells, its pages unfold,\n",
      "Unveiling wisdom, stories untold.\n",
      "A wand of light, its power ablaze,\n",
      "Igniting dreams, setting hearts ablaze.\n",
      "\n",
      "A compass guides, through paths unknown,\n",
      "Leading to adventures, where dreams are sown.\n",
      "A telescope, its lens so clear,\n",
      "Revealing stars, dispelling fear.\n",
      "\n",
      "A paintbrush dances, colors bright,\n",
      "Creating worlds, with every stroke of light.\n",
      "A musical instrument, its notes so sweet,\n",
      "Filling the air with melodies, a rhythmic treat.\n",
      "\n",
      "But more than treasures, it holds within,\n",
      "A spark of hope, where dreams begin.\n",
      "It whispers courage, dispels the doubt,\n",
      "Empowering hearts, making dreams sprout.\n",
      "\n",
      "So let us embrace this magic pack,\n",
      "And embark on journeys, where dreams unpack.\n",
      "For in its depths, a world awaits,\n",
      "Where imagination soars, and fate elates.\n"
     ]
    }
   ],
   "source": [
    "from llama_index.llms.gemini import Gemini\n",
    "\n",
    "resp = Gemini(model_name=\"models/gemini-pro\").complete(\"Write a poem about a magic backpack\")\n",
    "print(resp)"
   ]
  },
  {
   "cell_type": "code",
   "execution_count": 1,
   "metadata": {},
   "outputs": [],
   "source": [
    "import requests\n",
    "\n",
    "app_id = \"KWW3UE-KE799U2QKY\"\n",
    "\n",
    "response = requests.get(f\"http://api.wolframalpha.com/v2/query?appid={app_id}&input=population%20of%20france\")"
   ]
  },
  {
   "cell_type": "code",
   "execution_count": 3,
   "metadata": {},
   "outputs": [
    {
     "data": {
      "text/plain": [
       "\"<?xml version='1.0' encoding='UTF-8'?>\\n<queryresult success='true'\\n    error='false'\\n    xml:space='preserve'\\n    numpods='8'\\n    datatypes='City,Country'\\n    timedout=''\\n    timedoutpods=''\\n    timing='2.62'\\n    parsetiming='0.195'\\n    parsetimedout='false'\\n    recalculate=''\\n    id='MSP1014918gc87150328d2ei0000597g7b65g8ba442d'\\n    host='https://www6b3.wolframalpha.com'\\n    server='13'\\n    related='https://www6b3.wolframalpha.com/api/v1/relatedQueries.jsp?id=MSPa1015018gc87150328d2ei00005912h68gahdg2f3i4222294402565530544'\\n    version='2.6'\\n    inputstring='population of france'>\\n <pod title='Input interpretation'\\n     scanner='Identity'\\n     id='Input'\\n     position='100'\\n     error='false'\\n     numsubpods='1'>\\n  <subpod title=''>\\n   <img src='https://www6b3.wolframalpha.com/Calculate/MSP/MSP1015118gc87150328d2ei00003c62d9f06192b98i?MSPStoreType=image/gif&amp;s=13'\\n       alt='France | population'\\n       title='France | population'\\n       width='174'\\n       height='33'\\n       type='Grid'\\n       themes='1,2,3,4,5,6,7,8,9,10,11,12'\\n       colorinvertable='true'\\n       contenttype='image/gif' />\\n   <plaintext>France | population</plaintext>\\n  </subpod>\\n  <expressiontypes count='1'>\\n   <expressiontype name='Grid' />\\n  </expressiontypes>\\n </pod>\\n <pod title='Result'\\n     scanner='Data'\\n     id='Result'\\n     position='200'\\n     error='false'\\n     numsubpods='1'\\n     primary='true'>\\n  <subpod title=''>\\n   <microsources>\\n    <microsource>CountryData</microsource>\\n   </microsources>\\n   <datasources>\\n    <datasource>UNData</datasource>\\n   </datasources>\\n   <img src='https://www6b3.wolframalpha.com/Calculate/MSP/MSP1015218gc87150328d2ei0000164h070c90a5h55h?MSPStoreType=image/gif&amp;s=13'\\n       alt='64.8 million people (world rank: 23rd) (2023 estimate)'\\n       title='64.8 million people (world rank: 23rd) (2023 estimate)'\\n       width='299'\\n       height='19'\\n       type='Default'\\n       themes='1,2,3,4,5,6,7,8,9,10,11,12'\\n       colorinvertable='true'\\n       contenttype='image/gif' />\\n   <plaintext>64.8 million people (world rank: 23rd) (2023 estimate)</plaintext>\\n  </subpod>\\n  <expressiontypes count='1'>\\n   <expressiontype name='Default' />\\n  </expressiontypes>\\n </pod>\\n <pod title='Recent population history'\\n     scanner='Data'\\n     id='RecentHistory:Population:CountryData'\\n     position='300'\\n     error='false'\\n     numsubpods='1'>\\n  <subpod title=''>\\n   <microsources>\\n    <microsource>CountryData</microsource>\\n   </microsources>\\n   <datasources>\\n    <datasource>UNData</datasource>\\n   </datasources>\\n   <img src='https://www6b3.wolframalpha.com/Calculate/MSP/MSP1015318gc87150328d2ei00003h51f459d36f5622?MSPStoreType=image/gif&amp;s=13'\\n       alt='Recent population history'\\n       title=''\\n       width='369'\\n       height='166'\\n       type='TimeSeriesPlot_1'\\n       themes='1,2,3,4,5,6,7,8,9,10,11,12'\\n       colorinvertable='true'\\n       contenttype='image/gif' />\\n   <plaintext></plaintext>\\n  </subpod>\\n  <expressiontypes count='1'>\\n   <expressiontype name='Default' />\\n  </expressiontypes>\\n  <states count='2'>\\n   <state name='Show projections'\\n       input='RecentHistory:Population:CountryData__Show projections' />\\n   <state name='Log scale'\\n       input='RecentHistory:Population:CountryData__Log scale' />\\n  </states>\\n </pod>\\n <pod title='Long-term population history'\\n     scanner='Data'\\n     id='LongTermHistory:Population:CountryData'\\n     position='400'\\n     error='false'\\n     numsubpods='1'>\\n  <subpod title=''>\\n   <microsources>\\n    <microsource>CountryData</microsource>\\n   </microsources>\\n   <datasources>\\n    <datasource>UNData</datasource>\\n   </datasources>\\n   <img src='https://www6b3.wolframalpha.com/Calculate/MSP/MSP1015418gc87150328d2ei0000665g9idai0ghba55?MSPStoreType=image/gif&amp;s=13'\\n       alt='Long-term population history'\\n       title=''\\n       width='546'\\n       height='228'\\n       type='TimeSeriesPlot_1'\\n       themes='1,2,3,4,5,6,7,8,9,10,11,12'\\n       colorinvertable='true'\\n       contenttype='image/gif' />\\n   <plaintext></plaintext>\\n  </subpod>\\n  <expressiontypes count='1'>\\n   <expressiontype name='Default' />\\n  </expressiontypes>\\n  <states count='2'>\\n   <state name='Show projections'\\n       input='LongTermHistory:Population:CountryData__Show projections' />\\n   <state name='Log scale'\\n       input='LongTermHistory:Population:CountryData__Log scale' />\\n  </states>\\n </pod>\\n <pod title='Demographics'\\n     scanner='Data'\\n     id='DemographicProperties:CountryData'\\n     position='500'\\n     error='false'\\n     numsubpods='1'>\\n  <subpod title=''>\\n   <microsources>\\n    <microsource>CountryData</microsource>\\n   </microsources>\\n   <datasources>\\n    <datasource>UNData</datasource>\\n    <datasource>CIAFactbook</datasource>\\n   </datasources>\\n   <img src='https://www6b3.wolframalpha.com/Calculate/MSP/MSP1015518gc87150328d2ei00003f85b5abbda26id4?MSPStoreType=image/gif&amp;s=13'\\n       alt='population | 64.8 million people (world rank: 23rd) (2023 estimate)\\npopulation density | 117 people/km^2 (people per square kilometer) (world rank: 102nd) (2021 estimate)\\npopulation growth | 0.09 %/yr (world rank: 180th) (2021 estimate)\\nlife expectancy | 82.8 years (world rank: 16th) (2020 estimate)\\nmedian age | 41.6 years (world rank: 39th) (2021 estimate)'\\n       title='population | 64.8 million people (world rank: 23rd) (2023 estimate)\\npopulation density | 117 people/km^2 (people per square kilometer) (world rank: 102nd) (2021 estimate)\\npopulation growth | 0.09 %/yr (world rank: 180th) (2021 estimate)\\nlife expectancy | 82.8 years (world rank: 16th) (2020 estimate)\\nmedian age | 41.6 years (world rank: 39th) (2021 estimate)'\\n       width='546'\\n       height='187'\\n       type='Grid'\\n       themes='1,2,3,4,5,6,7,8,9,10,11,12'\\n       colorinvertable='true'\\n       contenttype='image/gif' />\\n   <plaintext>population | 64.8 million people (world rank: 23rd) (2023 estimate)\\npopulation density | 117 people/km^2 (people per square kilometer) (world rank: 102nd) (2021 estimate)\\npopulation growth | 0.09 %/yr (world rank: 180th) (2021 estimate)\\nlife expectancy | 82.8 years (world rank: 16th) (2020 estimate)\\nmedian age | 41.6 years (world rank: 39th) (2021 estimate)</plaintext>\\n  </subpod>\\n  <expressiontypes count='1'>\\n   <expressiontype name='Grid' />\\n  </expressiontypes>\\n  <states count='3'>\\n   <state name='Show rates'\\n       input='DemographicProperties:CountryData__Show rates' />\\n   <state name='Show distribution'\\n       input='DemographicProperties:CountryData__Show distribution' />\\n   <state name='Show non-metric'\\n       input='DemographicProperties:CountryData__Show non-metric' />\\n  </states>\\n  <infos count='1'>\\n   <info>\\n    <units count='1'>\\n     <unit short='%/yr'\\n         long='percent per year' />\\n     <img src='https://www6b3.wolframalpha.com/Calculate/MSP/MSP1015618gc87150328d2ei00005fca1b00a6hif71g?MSPStoreType=image/gif&amp;s=13'\\n         width='146'\\n         height='27' />\\n    </units>\\n   </info>\\n  </infos>\\n </pod>\\n <pod title='Age distribution'\\n     scanner='Data'\\n     id='AgeDistributionPyramidGraphic:AgeDistributionData'\\n     position='600'\\n     error='false'\\n     numsubpods='1'>\\n  <subpod title=''>\\n   <img src='https://www6b3.wolframalpha.com/Calculate/MSP/MSP1015718gc87150328d2ei00000cc6gcbge4190af1?MSPStoreType=image/gif&amp;s=13'\\n       alt='Age distribution'\\n       title=''\\n       width='546'\\n       height='467'\\n       type='2DMathPlotWithArea'\\n       themes='1,2,3,4,5,6,7,8,9,10,11,12'\\n       colorinvertable='true'\\n       contenttype='image/gif' />\\n   <plaintext></plaintext>\\n  </subpod>\\n  <expressiontypes count='1'>\\n   <expressiontype name='Default' />\\n  </expressiontypes>\\n </pod>\\n <pod title='Largest cities'\\n     scanner='Data'\\n     id='LargestCities:CountryData'\\n     position='700'\\n     error='false'\\n     numsubpods='1'>\\n  <subpod title=''>\\n   <microsources>\\n    <microsource>CityData</microsource>\\n    <microsource>CountryData</microsource>\\n   </microsources>\\n   <img src='https://www6b3.wolframalpha.com/Calculate/MSP/MSP1015818gc87150328d2ei000027hgca46ih10fh01?MSPStoreType=image/gif&amp;s=13'\\n       alt='city | population\\nParis, Île-de-France | 2.165 million people\\nMarseille, Provence-Alpes-Côte d&apos;Azur | 855393 people\\nLyon, Auvergne-Rhône-Alpes | 506615 people\\nToulouse, Occitania | 471941 people\\nNice, Provence-Alpes-Côte d&apos;Azur | 342522 people\\n(2004, 2007, 2013, 2014, 2015, 2017, and 2019 estimates)'\\n       title='city | population\\nParis, Île-de-France | 2.165 million people\\nMarseille, Provence-Alpes-Côte d&apos;Azur | 855393 people\\nLyon, Auvergne-Rhône-Alpes | 506615 people\\nToulouse, Occitania | 471941 people\\nNice, Provence-Alpes-Côte d&apos;Azur | 342522 people\\n(2004, 2007, 2013, 2014, 2015, 2017, and 2019 estimates)'\\n       width='430'\\n       height='211'\\n       type='Grid'\\n       themes='1,2,3,4,5,6,7,8,9,10,11,12'\\n       colorinvertable='true'\\n       contenttype='image/gif' />\\n   <plaintext>city | population\\nParis, Île-de-France | 2.165 million people\\nMarseille, Provence-Alpes-Côte d&apos;Azur | 855393 people\\nLyon, Auvergne-Rhône-Alpes | 506615 people\\nToulouse, Occitania | 471941 people\\nNice, Provence-Alpes-Côte d&apos;Azur | 342522 people\\n(2004, 2007, 2013, 2014, 2015, 2017, and 2019 estimates)</plaintext>\\n  </subpod>\\n  <expressiontypes count='1'>\\n   <expressiontype name='Grid' />\\n  </expressiontypes>\\n  <states count='1'>\\n   <state name='More'\\n       input='LargestCities:CountryData__More' />\\n  </states>\\n </pod>\\n <pod title='Comparisons'\\n     scanner='Unit'\\n     id='ComparisonAsPersonCount'\\n     position='800'\\n     error='false'\\n     numsubpods='2'>\\n  <subpod title=''>\\n   <img src='https://www6b3.wolframalpha.com/Calculate/MSP/MSP1015918gc87150328d2ei000068c4i58h99d2i8g3?MSPStoreType=image/gif&amp;s=13'\\n       alt=' ≈ 0.62 × current population of Philippines ( 104.9 million people )'\\n       title=' ≈ 0.62 × current population of Philippines ( 104.9 million people )'\\n       width='376'\\n       height='19'\\n       type='Default'\\n       themes='1,2,3,4,5,6,7,8,9,10,11,12'\\n       colorinvertable='true'\\n       contenttype='image/gif' />\\n   <plaintext> ≈ 0.62 × current population of Philippines ( 104.9 million people )</plaintext>\\n  </subpod>\\n  <subpod title=''>\\n   <img src='https://www6b3.wolframalpha.com/Calculate/MSP/MSP1016018gc87150328d2ei00004ac9g66fda3f4540?MSPStoreType=image/gif&amp;s=13'\\n       alt=' ≈ 0.79 × current population of Germany ( 82.11 million people )'\\n       title=' ≈ 0.79 × current population of Germany ( 82.11 million people )'\\n       width='366'\\n       height='19'\\n       type='Default'\\n       themes='1,2,3,4,5,6,7,8,9,10,11,12'\\n       colorinvertable='true'\\n       contenttype='image/gif' />\\n   <plaintext> ≈ 0.79 × current population of Germany ( 82.11 million people )</plaintext>\\n  </subpod>\\n  <expressiontypes count='2'>\\n   <expressiontype name='Default' />\\n   <expressiontype name='Default' />\\n  </expressiontypes>\\n </pod>\\n <sources count='2'>\\n  <source url='https://www6b3.wolframalpha.com/sources/CityDataSourceInformationNotes.html'\\n      text='City data' />\\n  <source url='https://www6b3.wolframalpha.com/sources/CountryDataSourceInformationNotes.html'\\n      text='Country data' />\\n </sources>\\n</queryresult>\""
      ]
     },
     "execution_count": 3,
     "metadata": {},
     "output_type": "execute_result"
    }
   ],
   "source": [
    "response.text"
   ]
  },
  {
   "cell_type": "code",
   "execution_count": 2,
   "metadata": {},
   "outputs": [],
   "source": [
    "import requests\n",
    "from PIL import Image\n",
    "from io import BytesIO\n",
    "import matplotlib.pyplot as plt\n",
    "\n",
    "# Replace 'YOUR_APP_ID' with your actual Wolfram Alpha API key\n",
    "app_id = 'KWW3UE-KE799U2QKY'\n",
    "\n",
    "\n",
    "def graph_plot(query: str) -> str:\n",
    "    '''\n",
    "    function for plotting the graph for the given mathematical function or equation, in text format.\n",
    "\n",
    "    Args:\n",
    "        query: str - the query of mathematical function or equation, which needs to plotted.\n",
    "    Returns:\n",
    "        str - whether the plot is successfully plotted or not.\n",
    "    '''\n",
    "# URL for the Wolfram Alpha API\n",
    "    url = f'http://api.wolframalpha.com/v2/query?input={query}&format=image,plaintext&output=JSON&appid={app_id}'\n",
    "\n",
    "    # Send the request to the API\n",
    "    response = requests.get(url)\n",
    "    data = response.json()\n",
    "\n",
    "    try:\n",
    "        # Extract the image URL from the response\n",
    "        pods = data['queryresult']['pods']\n",
    "        image_url = None\n",
    "        for pod in pods:\n",
    "            if 'Plot' in pod['title']:\n",
    "                subpods = pod['subpods']\n",
    "                for subpod in subpods:\n",
    "                    if 'img' in subpod:\n",
    "                        image_url = subpod['img']['src']\n",
    "                        break\n",
    "                if image_url:\n",
    "                    break\n",
    "\n",
    "        # Check if an image URL was found\n",
    "        if image_url:\n",
    "            # Download the image\n",
    "            image_response = requests.get(image_url)\n",
    "            img = Image.open(BytesIO(image_response.content))\n",
    "\n",
    "            # Display the image using Matplotlib\n",
    "            plt.imshow(img)\n",
    "            plt.axis('off')  # Hide the axes\n",
    "            plt.show()\n",
    "            return \"Plot succesfully plotted\"\n",
    "        else:\n",
    "            return \"No plot found in the query result.\"\n",
    "    except Exception as e:\n",
    "        print(e)\n",
    "        return \"No plot found\"\n"
   ]
  },
  {
   "cell_type": "code",
   "execution_count": 3,
   "metadata": {},
   "outputs": [],
   "source": [
    "def show_steps(query: str) -> str:\n",
    "    '''\n",
    "    function for solving a mathematical expression or equation, and providing each steps for the solution.\n",
    "\n",
    "    Args:\n",
    "        query: str - the mathematical query, in the form of expression or equation which needs to be solved.\n",
    "    \n",
    "    Returns:\n",
    "        str - solution with complete steps of solution\n",
    "    '''\n",
    "    url = f'http://api.wolframalpha.com/v2/query?input={query}&podstate=Result__Step-by-step+solution&format=plaintext&output=JSON&appid={app_id}'\n",
    "\n",
    "    # Send the request to the API\n",
    "    response = requests.get(url)\n",
    "    data = response.json()\n",
    "\n",
    "    # Extract the solution steps from the response\n",
    "    message = \"\"\n",
    "    steps = []\n",
    "    pods = data['queryresult']['pods']\n",
    "    for pod in pods:\n",
    "        if 'Solution' in pod['title'] or 'Result' in pod['title']:\n",
    "            subpods = pod['subpods']\n",
    "            for subpod in subpods:\n",
    "                if 'plaintext' in subpod:\n",
    "                    steps.append(subpod['plaintext'])\n",
    "\n",
    "    # Check if solution steps were found\n",
    "    if steps:\n",
    "        message += \"Solution Steps:\\n\"\n",
    "        for step in steps:\n",
    "            message += step + \"\\n\"\n",
    "    else:\n",
    "        message += \"No solution steps found in the query result.\"\n",
    "    \n",
    "    return message\n"
   ]
  },
  {
   "cell_type": "markdown",
   "metadata": {},
   "source": [
    "* graph tool\n",
    "* woflram calculator tool\n",
    "* multiple solutions \n",
    "* `feedback on user solution`\n",
    "* `follow up`\n",
    "* `taking exam`"
   ]
  },
  {
   "cell_type": "code",
   "execution_count": null,
   "metadata": {},
   "outputs": [],
   "source": []
  },
  {
   "cell_type": "code",
   "execution_count": 4,
   "metadata": {},
   "outputs": [],
   "source": [
    "from llama_index.llms.gemini import Gemini\n",
    "\n",
    "llm = Gemini(model_name=\"models/gemini-pro\")"
   ]
  },
  {
   "cell_type": "code",
   "execution_count": 5,
   "metadata": {},
   "outputs": [],
   "source": [
    "from llama_index.core.tools import FunctionTool\n",
    "\n",
    "graph_tool = FunctionTool.from_defaults(fn=graph_plot)\n",
    "steps_tool = FunctionTool.from_defaults(fn=show_steps)"
   ]
  },
  {
   "cell_type": "code",
   "execution_count": 7,
   "metadata": {},
   "outputs": [],
   "source": [
    "from llama_index.core.tools import QueryEngineTool, ToolMetadata\n",
    "\n",
    "tool_metadata = ToolMetadata(name='graph_tool', description=\"Tool for creating a graph plot for a given equation or expression\")\n",
    "query_engine_tool = QueryEngineTool(query_engine=graph_tool, metadata=tool_metadata)"
   ]
  },
  {
   "cell_type": "code",
   "execution_count": 8,
   "metadata": {},
   "outputs": [],
   "source": [
    "query_engine_tools = [\n",
    "    QueryEngineTool(\n",
    "        query_engine=graph_tool, \n",
    "        metadata=ToolMetadata(\n",
    "            name=\"graph_plot\", \n",
    "            description=\"Tool for creating a graph plot for a given equation or expression\"\n",
    "        )\n",
    "    ), \n",
    "    QueryEngineTool(\n",
    "        query_engine=steps_tool, \n",
    "        metadata=ToolMetadata(\n",
    "            name='steps_tool', \n",
    "            description=\"tool for creating steps for the solution of the given expression or equation\"\n",
    "        )\n",
    "    )\n",
    "]"
   ]
  },
  {
   "cell_type": "code",
   "execution_count": 10,
   "metadata": {},
   "outputs": [],
   "source": [
    "from llama_index.core.agent import ReActAgent\n",
    "\n",
    "agent = ReActAgent.from_tools(\n",
    "    query_engine_tools, \n",
    "    llm=llm, \n",
    "    verbose=True\n",
    ")"
   ]
  },
  {
   "cell_type": "code",
   "execution_count": 12,
   "metadata": {},
   "outputs": [
    {
     "name": "stdout",
     "output_type": "stream",
     "text": [
      "\u001b[1;3;38;5;200mThought: The current language of the user is: english. I need to use a tool to help me answer the question.\n",
      "Action: graph_plot\n",
      "Action Input: {'input': '4x - 3y = 2'}\n",
      "\u001b[0m\u001b[1;3;34mObservation: Error: 'FunctionTool' object has no attribute 'query'\n",
      "\u001b[0m\u001b[1;3;38;5;200mThought: The current language of the user is: english. I need to use a tool to help me answer the question.\n",
      "Action: graph_plot\n",
      "Action Input: {'input': '2y + 3x = 7'}\n",
      "\u001b[0m\u001b[1;3;34mObservation: Error: 'FunctionTool' object has no attribute 'query'\n",
      "\u001b[0m\u001b[1;3;38;5;200mThought: I cannot answer the question with the provided tools.\n",
      "Answer: I'm sorry, I cannot plot the given equations or solve them using the tools I have access to.\n",
      "\u001b[0m"
     ]
    },
    {
     "data": {
      "text/plain": [
       "AgentChatResponse(response=\"I'm sorry, I cannot plot the given equations or solve them using the tools I have access to.\", sources=[ToolOutput(content=\"Error: 'FunctionTool' object has no attribute 'query'\", tool_name='graph_plot', raw_input={'kwargs': {'input': '4x - 3y = 2'}}, raw_output=AttributeError(\"'FunctionTool' object has no attribute 'query'\"), is_error=True), ToolOutput(content=\"Error: 'FunctionTool' object has no attribute 'query'\", tool_name='graph_plot', raw_input={'kwargs': {'input': '2y + 3x = 7'}}, raw_output=AttributeError(\"'FunctionTool' object has no attribute 'query'\"), is_error=True)], source_nodes=[], is_dummy_stream=False)"
      ]
     },
     "execution_count": 12,
     "metadata": {},
     "output_type": "execute_result"
    }
   ],
   "source": [
    "agent.chat(\"Plot 4x - 3y = 2, and 2y + 3x = 7 and solve the equation \")"
   ]
  },
  {
   "cell_type": "code",
   "execution_count": null,
   "metadata": {},
   "outputs": [],
   "source": []
  },
  {
   "cell_type": "code",
   "execution_count": 13,
   "metadata": {},
   "outputs": [],
   "source": [
    "from llama_index.core.agent import AgentRunner\n",
    "\n",
    "agent = AgentRunner.from_llm([graph_tool, steps_tool], llm=llm, verbose=True, \n",
    "                             description=\"\"\"You are helpful AI Tutor for mathematics. You have to take the query from user,\n",
    "                               analyze it and with the help of available tools, try to answer the query fully with detailed explaination. \n",
    "                               The raw response you will get from the tools, you will have to refine them into easily understandable steps.\"\"\")"
   ]
  },
  {
   "cell_type": "code",
   "execution_count": 14,
   "metadata": {},
   "outputs": [
    {
     "name": "stdout",
     "output_type": "stream",
     "text": [
      "\u001b[1;3;38;5;200mThought: The current language of the user is: english. I need to use a tool to help me answer the question.\n",
      "Action: show_steps\n",
      "Action Input: {'query': 'sin(x)^3 -cos(x) = 4'}\n",
      "\u001b[0m\u001b[1;3;34mObservation: Solution Steps:\n",
      "x≈2 (3.14159 n - (1.3834 + 0.542066 i) ), n element Z\n",
      "x≈2 (3.14159 n - (1.3834 - 0.542066 i) ), n element Z\n",
      "x≈2 (3.14159 n - (0.254314 + 0.658012 i) ), n element Z\n",
      "x≈2 (3.14159 n - (0.254314 - 0.658012 i) ), n element Z\n",
      "x≈2 (3.14159 n + (0.852319 - 0.519667 i) ), n element Z\n",
      "\n",
      "\u001b[0m\u001b[1;3;38;5;200mThought: The current language of the user is: english. I need to use a tool to help me answer the question.\n",
      "Action: graph_plot\n",
      "Action Input: {'query': 'sin(x)^3 -cos(x) = 4'}\n",
      "\u001b[0m"
     ]
    },
    {
     "data": {
      "image/png": "[encoded data removed]",
      "text/plain": [
       "<Figure size 640x480 with 1 Axes>"
      ]
     },
     "metadata": {},
     "output_type": "display_data"
    },
    {
     "name": "stdout",
     "output_type": "stream",
     "text": [
      "\u001b[1;3;34mObservation: Plot succesfully plotted\n",
      "\u001b[0m\u001b[1;3;38;5;200mThought: I can answer without using any more tools. I'll use the user's language to answer\n",
      "Answer: The solution to the equation sin(x)^3 -cos(x) = 4 are:\n",
      "x≈2 (3.14159 n - (1.3834 + 0.542066 i) ), n element Z\n",
      "x≈2 (3.14159 n - (1.3834 - 0.542066 i) ), n element Z\n",
      "x≈2 (3.14159 n - (0.254314 + 0.658012 i) ), n element Z\n",
      "x≈2 (3.14159 n - (0.254314 - 0.658012 i) ), n element Z\n",
      "x≈2 (3.14159 n + (0.852319 - 0.519667 i) ), n element Z\n",
      "\n",
      "The plot of the function sin(x)^3 -cos(x) - 4 is also attached.\n",
      "\u001b[0m"
     ]
    },
    {
     "data": {
      "text/plain": [
       "Response(response='The solution to the equation sin(x)^3 -cos(x) = 4 are:\\nx≈2 (3.14159 n - (1.3834 + 0.542066 i) ), n element Z\\nx≈2 (3.14159 n - (1.3834 - 0.542066 i) ), n element Z\\nx≈2 (3.14159 n - (0.254314 + 0.658012 i) ), n element Z\\nx≈2 (3.14159 n - (0.254314 - 0.658012 i) ), n element Z\\nx≈2 (3.14159 n + (0.852319 - 0.519667 i) ), n element Z\\n\\nThe plot of the function sin(x)^3 -cos(x) - 4 is also attached.', source_nodes=[], metadata=None)"
      ]
     },
     "execution_count": 14,
     "metadata": {},
     "output_type": "execute_result"
    }
   ],
   "source": [
    "agent.query(\"What is the solution of sin(x)^3 -cos(x) = 4, along with plot. Explain your approach and each step\")"
   ]
  },
  {
   "cell_type": "code",
   "execution_count": null,
   "metadata": {},
   "outputs": [],
   "source": []
  }
 ],
 "metadata": {
  "kernelspec": {
   "display_name": "Python 3",
   "language": "python",
   "name": "python3"
  },
  "language_info": {
   "codemirror_mode": {
    "name": "ipython",
    "version": 3
   },
   "file_extension": ".py",
   "mimetype": "text/x-python",
   "name": "python",
   "nbconvert_exporter": "python",
   "pygments_lexer": "ipython3",
   "version": "3.11.9"
  }
 },
 "nbformat": 4,
 "nbformat_minor": 2
}
