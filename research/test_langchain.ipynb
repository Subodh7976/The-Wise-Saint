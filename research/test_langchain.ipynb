{
 "cells": [
  {
   "cell_type": "code",
   "execution_count": 1,
   "metadata": {},
   "outputs": [],
   "source": [
    "from langchain_google_genai import ChatGoogleGenerativeAI\n",
    "\n",
    "llm = ChatGoogleGenerativeAI(model=\"gemini-pro\")"
   ]
  },
  {
   "cell_type": "code",
   "execution_count": 8,
   "metadata": {},
   "outputs": [],
   "source": [
    "from langchain_core.tools import tool \n",
    "import requests\n",
    "from PIL import Image\n",
    "from io import BytesIO\n",
    "import matplotlib.pyplot as plt\n",
    "\n",
    "\n",
    "# Replace 'YOUR_APP_ID' with your actual Wolfram Alpha API key\n",
    "app_id = 'KWW3UE-KE799U2QKY'\n",
    "\n",
    "@tool \n",
    "def graph_plot(query: str) -> str:\n",
    "    '''\n",
    "    function for plotting the graph for the given mathematical function or equation, in text format. Takes a single expression at a time.\n",
    "\n",
    "    Args:\n",
    "        query: str - the query of mathematical function or equation, which needs to plotted.\n",
    "    Returns:\n",
    "        str - whether the plot is successfully plotted or not.\n",
    "    '''\n",
    "# URL for the Wolfram Alpha API\n",
    "    url = f'http://api.wolframalpha.com/v2/query?input={query}&format=image,plaintext&output=JSON&appid={app_id}'\n",
    "\n",
    "    # Send the request to the API\n",
    "    response = requests.get(url)\n",
    "    data = response.json()\n",
    "\n",
    "    try:\n",
    "        # Extract the image URL from the response\n",
    "        pods = data['queryresult']['pods']\n",
    "        image_url = None\n",
    "        for pod in pods:\n",
    "            if 'plot' in pod['title'].lower():\n",
    "                subpods = pod['subpods']\n",
    "                for subpod in subpods:\n",
    "                    if 'img' in subpod:\n",
    "                        image_url = subpod['img']['src']\n",
    "                        break\n",
    "                if image_url:\n",
    "                    break\n",
    "        \n",
    "        # Check if an image URL was found\n",
    "        print(image_url)\n",
    "        if image_url:\n",
    "            # Download the image\n",
    "            image_response = requests.get(image_url)\n",
    "            img = Image.open(BytesIO(image_response.content))\n",
    "\n",
    "            # Display the image using Matplotlib\n",
    "            plt.imshow(img)\n",
    "            plt.axis('off')  # Hide the axes\n",
    "            plt.show()\n",
    "            return \"Plot succesfully plotted\"\n",
    "        else:\n",
    "            return \"No plot found in the query result.\"\n",
    "    except Exception as e:\n",
    "        print(e)\n",
    "        return \"No plot found\"\n",
    "\n",
    "@tool\n",
    "def show_steps(query: str) -> str:\n",
    "    '''\n",
    "    function for solving a mathematical expression or equation, and providing each steps for the solution.\n",
    "\n",
    "    Args:\n",
    "        query: str - the mathematical query, in the form of expression or equation which needs to be solved.\n",
    "    \n",
    "    Returns:\n",
    "        str - solution with complete steps of solution\n",
    "    '''\n",
    "    url = f'http://api.wolframalpha.com/v2/query?input={query}&podstate=Result__Step-by-step+solution&format=plaintext&output=JSON&appid={app_id}'\n",
    "\n",
    "    # Send the request to the API\n",
    "    response = requests.get(url)\n",
    "    data = response.json()\n",
    "\n",
    "    # Extract the solution steps from the response\n",
    "    message = \"\"\n",
    "    steps = []\n",
    "    pods = data['queryresult']['pods']\n",
    "    for pod in pods:\n",
    "        if 'Solution' in pod['title'] or 'Result' in pod['title']:\n",
    "            subpods = pod['subpods']\n",
    "            for subpod in subpods:\n",
    "                if 'plaintext' in subpod:\n",
    "                    steps.append(subpod['plaintext'])\n",
    "\n",
    "    # Check if solution steps were found\n",
    "    if steps:\n",
    "        message += \"Solution Steps:\\n\"\n",
    "        for step in steps:\n",
    "            message += step + \"\\n\"\n",
    "    else:\n",
    "        message += \"No solution steps found in the query result.\"\n",
    "    \n",
    "    return message\n"
   ]
  },
  {
   "cell_type": "code",
   "execution_count": 9,
   "metadata": {},
   "outputs": [],
   "source": [
    "tool_list = [graph_plot, show_steps]\n",
    "\n",
    "model_with_tools = llm.bind_tools(tool_list)"
   ]
  },
  {
   "cell_type": "code",
   "execution_count": 11,
   "metadata": {},
   "outputs": [
    {
     "name": "stdout",
     "output_type": "stream",
     "text": [
      "Content String: \n",
      "ToolCalls: [{'name': 'show_steps', 'args': {'query': '4x - 3y = 2\\\\n2y + 3x = 7'}, 'id': '86e1952b-17c7-450b-a035-8e7060d6b77a'}]\n"
     ]
    }
   ],
   "source": [
    "from langchain_core.messages import HumanMessage\n",
    "\n",
    "response = model_with_tools.invoke([HumanMessage(content=\"4x - 3y = 2, and 2y + 3x = 7 and solve the equation\")])\n",
    "\n",
    "print(f\"Content String: {response.content}\")\n",
    "print(f\"ToolCalls: {response.tool_calls}\")"
   ]
  },
  {
   "cell_type": "code",
   "execution_count": 15,
   "metadata": {},
   "outputs": [
    {
     "name": "stdout",
     "output_type": "stream",
     "text": [
      "Given equations:\n",
      "4x - 3y = 2\n",
      "2y + 3x = 7\n",
      "\n",
      "To solve this system of linear equations, we can use the substitution method.\n",
      "\n",
      "1. Solve the first equation for x:\n",
      "4x - 3y = 2\n",
      "4x = 3y + 2\n",
      "x = (3y + 2)/4\n",
      "\n",
      "2. Substitute the expression for x from step 1 into the second equation:\n",
      "2y + 3x = 7\n",
      "2y + 3((3y + 2)/4) = 7\n",
      "2y + (9y + 6)/4 = 7\n",
      "\n",
      "3. Simplify and solve for y:\n",
      "2y + (9y + 6)/4 = 7\n",
      "8y + 9y + 6 = 28\n",
      "17y = 22\n",
      "y = 22/17\n",
      "\n",
      "4. Substitute the value of y back into the expression for x from step 1:\n",
      "x = (3y + 2)/4\n",
      "x = (3(22/17) + 2)/4\n",
      "x = (66/17 + 2)/4\n",
      "x = 11/17\n",
      "\n",
      "So, the solution to the system of equations is:\n",
      "x = 11/17\n",
      "y = 22/17\n"
     ]
    }
   ],
   "source": [
    "print(llm.invoke([HumanMessage(content=\"4x - 3y = 2, and 2y + 3x = 7 and solve the equation\")]).content)"
   ]
  },
  {
   "cell_type": "code",
   "execution_count": 13,
   "metadata": {},
   "outputs": [
    {
     "data": {
      "text/plain": [
       "AIMessage(content='', additional_kwargs={'function_call': {'name': 'show_steps', 'arguments': '{\"query\": \"4x - 3y = 2\\\\\\\\n2y + 3x = 7\"}'}}, response_metadata={'prompt_feedback': {'block_reason': 0, 'safety_ratings': []}, 'finish_reason': 'STOP', 'safety_ratings': [{'category': 'HARM_CATEGORY_SEXUALLY_EXPLICIT', 'probability': 'NEGLIGIBLE', 'blocked': False}, {'category': 'HARM_CATEGORY_HATE_SPEECH', 'probability': 'NEGLIGIBLE', 'blocked': False}, {'category': 'HARM_CATEGORY_HARASSMENT', 'probability': 'NEGLIGIBLE', 'blocked': False}, {'category': 'HARM_CATEGORY_DANGEROUS_CONTENT', 'probability': 'NEGLIGIBLE', 'blocked': False}]}, id='run-3534f533-17f2-4a06-b978-4c4620703d5e-0', tool_calls=[{'name': 'show_steps', 'args': {'query': '4x - 3y = 2\\\\n2y + 3x = 7'}, 'id': '86e1952b-17c7-450b-a035-8e7060d6b77a'}])"
      ]
     },
     "execution_count": 13,
     "metadata": {},
     "output_type": "execute_result"
    }
   ],
   "source": [
    "response"
   ]
  },
  {
   "cell_type": "code",
   "execution_count": null,
   "metadata": {},
   "outputs": [],
   "source": []
  }
 ],
 "metadata": {
  "kernelspec": {
   "display_name": "Python 3",
   "language": "python",
   "name": "python3"
  },
  "language_info": {
   "codemirror_mode": {
    "name": "ipython",
    "version": 3
   },
   "file_extension": ".py",
   "mimetype": "text/x-python",
   "name": "python",
   "nbconvert_exporter": "python",
   "pygments_lexer": "ipython3",
   "version": "3.11.9"
  }
 },
 "nbformat": 4,
 "nbformat_minor": 2
}
