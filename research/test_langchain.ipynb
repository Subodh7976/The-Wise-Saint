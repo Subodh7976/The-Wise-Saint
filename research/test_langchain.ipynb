{
 "cells": [
  {
   "cell_type": "code",
   "execution_count": 1,
   "metadata": {},
   "outputs": [],
   "source": [
    "from langchain_google_genai import ChatGoogleGenerativeAI\n",
    "\n",
    "llm = ChatGoogleGenerativeAI(model=\"gemini-pro\")"
   ]
  },
  {
   "cell_type": "code",
   "execution_count": 8,
   "metadata": {},
   "outputs": [],
   "source": [
    "from langchain_core.tools import tool \n",
    "import requests\n",
    "from PIL import Image\n",
    "from io import BytesIO\n",
    "import matplotlib.pyplot as plt\n",
    "\n",
    "\n",
    "# Replace 'YOUR_APP_ID' with your actual Wolfram Alpha API key\n",
    "app_id = 'KWW3UE-KE799U2QKY'\n",
    "\n",
    "@tool \n",
    "def graph_plot(query: str) -> str:\n",
    "    '''\n",
    "    function for plotting the graph for the given mathematical function or equation, in text format. Takes a single expression at a time.\n",
    "\n",
    "    Args:\n",
    "        query: str - the query of mathematical function or equation, which needs to plotted.\n",
    "    Returns:\n",
    "        str - whether the plot is successfully plotted or not.\n",
    "    '''\n",
    "# URL for the Wolfram Alpha API\n",
    "    url = f'http://api.wolframalpha.com/v2/query?input={query}&format=image,plaintext&output=JSON&appid={app_id}'\n",
    "\n",
    "    # Send the request to the API\n",
    "    response = requests.get(url)\n",
    "    data = response.json()\n",
    "\n",
    "    try:\n",
    "        # Extract the image URL from the response\n",
    "        pods = data['queryresult']['pods']\n",
    "        image_url = None\n",
    "        for pod in pods:\n",
    "            if 'plot' in pod['title'].lower():\n",
    "                subpods = pod['subpods']\n",
    "                for subpod in subpods:\n",
    "                    if 'img' in subpod:\n",
    "                        image_url = subpod['img']['src']\n",
    "                        break\n",
    "                if image_url:\n",
    "                    break\n",
    "        \n",
    "        # Check if an image URL was found\n",
    "        print(image_url)\n",
    "        if image_url:\n",
    "            # Download the image\n",
    "            image_response = requests.get(image_url)\n",
    "            img = Image.open(BytesIO(image_response.content))\n",
    "\n",
    "            # Display the image using Matplotlib\n",
    "            plt.imshow(img)\n",
    "            plt.axis('off')  # Hide the axes\n",
    "            plt.show()\n",
    "            return \"Plot succesfully plotted\"\n",
    "        else:\n",
    "            return \"No plot found in the query result.\"\n",
    "    except Exception as e:\n",
    "        print(e)\n",
    "        return \"No plot found\"\n",
    "\n",
    "@tool\n",
    "def show_steps(query: str) -> str:\n",
    "    '''\n",
    "    function for solving a mathematical expression or equation, and providing each steps for the solution.\n",
    "\n",
    "    Args:\n",
    "        query: str - the mathematical query, in the form of expression or equation which needs to be solved.\n",
    "    \n",
    "    Returns:\n",
    "        str - solution with complete steps of solution\n",
    "    '''\n",
    "    url = f'http://api.wolframalpha.com/v2/query?input={query}&podstate=Result__Step-by-step+solution&format=plaintext&output=JSON&appid={app_id}'\n",
    "\n",
    "    # Send the request to the API\n",
    "    response = requests.get(url)\n",
    "    data = response.json()\n",
    "\n",
    "    # Extract the solution steps from the response\n",
    "    message = \"\"\n",
    "    steps = []\n",
    "    pods = data['queryresult']['pods']\n",
    "    for pod in pods:\n",
    "        if 'Solution' in pod['title'] or 'Result' in pod['title']:\n",
    "            subpods = pod['subpods']\n",
    "            for subpod in subpods:\n",
    "                if 'plaintext' in subpod:\n",
    "                    steps.append(subpod['plaintext'])\n",
    "\n",
    "    # Check if solution steps were found\n",
    "    if steps:\n",
    "        message += \"Solution Steps:\\n\"\n",
    "        for step in steps:\n",
    "            message += step + \"\\n\"\n",
    "    else:\n",
    "        message += \"No solution steps found in the query result.\"\n",
    "    \n",
    "    return message\n"
   ]
  },
  {
   "cell_type": "code",
   "execution_count": 9,
   "metadata": {},
   "outputs": [],
   "source": [
    "tool_list = [graph_plot, show_steps]\n",
    "\n",
    "model_with_tools = llm.bind_tools(tool_list)"
   ]
  },
  {
   "cell_type": "code",
   "execution_count": 11,
   "metadata": {},
   "outputs": [
    {
     "name": "stdout",
     "output_type": "stream",
     "text": [
      "Content String: \n",
      "ToolCalls: [{'name': 'show_steps', 'args': {'query': '4x - 3y = 2\\\\n2y + 3x = 7'}, 'id': '86e1952b-17c7-450b-a035-8e7060d6b77a'}]\n"
     ]
    }
   ],
   "source": [
    "from langchain_core.messages import HumanMessage\n",
    "\n",
    "response = model_with_tools.invoke([HumanMessage(content=\"4x - 3y = 2, and 2y + 3x = 7 and solve the equation\")])\n",
    "\n",
    "print(f\"Content String: {response.content}\")\n",
    "print(f\"ToolCalls: {response.tool_calls}\")"
   ]
  },
  {
   "cell_type": "code",
   "execution_count": 15,
   "metadata": {},
   "outputs": [
    {
     "name": "stdout",
     "output_type": "stream",
     "text": [
      "Given equations:\n",
      "4x - 3y = 2\n",
      "2y + 3x = 7\n",
      "\n",
      "To solve this system of linear equations, we can use the substitution method.\n",
      "\n",
      "1. Solve the first equation for x:\n",
      "4x - 3y = 2\n",
      "4x = 3y + 2\n",
      "x = (3y + 2)/4\n",
      "\n",
      "2. Substitute the expression for x from step 1 into the second equation:\n",
      "2y + 3x = 7\n",
      "2y + 3((3y + 2)/4) = 7\n",
      "2y + (9y + 6)/4 = 7\n",
      "\n",
      "3. Simplify and solve for y:\n",
      "2y + (9y + 6)/4 = 7\n",
      "8y + 9y + 6 = 28\n",
      "17y = 22\n",
      "y = 22/17\n",
      "\n",
      "4. Substitute the value of y back into the expression for x from step 1:\n",
      "x = (3y + 2)/4\n",
      "x = (3(22/17) + 2)/4\n",
      "x = (66/17 + 2)/4\n",
      "x = 11/17\n",
      "\n",
      "So, the solution to the system of equations is:\n",
      "x = 11/17\n",
      "y = 22/17\n"
     ]
    }
   ],
   "source": [
    "print(llm.invoke([HumanMessage(content=\"4x - 3y = 2, and 2y + 3x = 7 and solve the equation\")]).content)"
   ]
  },
  {
   "cell_type": "code",
   "execution_count": 13,
   "metadata": {},
   "outputs": [
    {
     "data": {
      "text/plain": [
       "AIMessage(content='', additional_kwargs={'function_call': {'name': 'show_steps', 'arguments': '{\"query\": \"4x - 3y = 2\\\\\\\\n2y + 3x = 7\"}'}}, response_metadata={'prompt_feedback': {'block_reason': 0, 'safety_ratings': []}, 'finish_reason': 'STOP', 'safety_ratings': [{'category': 'HARM_CATEGORY_SEXUALLY_EXPLICIT', 'probability': 'NEGLIGIBLE', 'blocked': False}, {'category': 'HARM_CATEGORY_HATE_SPEECH', 'probability': 'NEGLIGIBLE', 'blocked': False}, {'category': 'HARM_CATEGORY_HARASSMENT', 'probability': 'NEGLIGIBLE', 'blocked': False}, {'category': 'HARM_CATEGORY_DANGEROUS_CONTENT', 'probability': 'NEGLIGIBLE', 'blocked': False}]}, id='run-3534f533-17f2-4a06-b978-4c4620703d5e-0', tool_calls=[{'name': 'show_steps', 'args': {'query': '4x - 3y = 2\\\\n2y + 3x = 7'}, 'id': '86e1952b-17c7-450b-a035-8e7060d6b77a'}])"
      ]
     },
     "execution_count": 13,
     "metadata": {},
     "output_type": "execute_result"
    }
   ],
   "source": [
    "response"
   ]
  },
  {
   "cell_type": "code",
   "execution_count": 2,
   "metadata": {},
   "outputs": [],
   "source": [
    "from langchain.prompts import ChatPromptTemplate\n",
    "from langchain.chains import LLMChain\n",
    "\n",
    "prompt_1 = ChatPromptTemplate.from_template(\n",
    "    \"\"\"\n",
    "Given the mathematical query, write the best set of equations, expressions or functions \n",
    "which can be plotted or shown in the graph which are relevant to the solution or procedure of the \n",
    "original query. Include some guidelines to guide the plot or graph making process to showcase solution.\n",
    "If the solutions or equations are complex and not real, give guidelines appropriately and plot the \n",
    "graph for those complex equations.\n",
    "\n",
    "Query: {query}\n",
    "\"\"\"\n",
    ")"
   ]
  },
  {
   "cell_type": "code",
   "execution_count": 3,
   "metadata": {},
   "outputs": [
    {
     "name": "stderr",
     "output_type": "stream",
     "text": [
      "/home/vscode/.local/lib/python3.11/site-packages/langchain_core/_api/deprecation.py:119: LangChainDeprecationWarning: The class `LLMChain` was deprecated in LangChain 0.1.17 and will be removed in 0.3.0. Use RunnableSequence, e.g., `prompt | llm` instead.\n",
      "  warn_deprecated(\n"
     ]
    }
   ],
   "source": [
    "chain_1 = LLMChain(llm=llm, prompt=prompt_1)"
   ]
  },
  {
   "cell_type": "code",
   "execution_count": 4,
   "metadata": {},
   "outputs": [
    {
     "name": "stderr",
     "output_type": "stream",
     "text": [
      "/home/vscode/.local/lib/python3.11/site-packages/langchain_core/_api/deprecation.py:119: LangChainDeprecationWarning: The method `Chain.run` was deprecated in langchain 0.1.0 and will be removed in 0.3.0. Use invoke instead.\n",
      "  warn_deprecated(\n"
     ]
    }
   ],
   "source": [
    "resp = chain_1.run(\"sin(x)^3 -cos(x) = 4\")"
   ]
  },
  {
   "cell_type": "code",
   "execution_count": 5,
   "metadata": {},
   "outputs": [],
   "source": [
    "prompt_2 = ChatPromptTemplate.from_template(\n",
    "    \"\"\"\n",
    "Based on the given guidelines, write Python code for plotting the graph. You \n",
    "can use libraries - matplotlib, seaborn, pandas or numpy. (not necessary to use all). \n",
    "If there is an intersection or solution point/s, be extra careful to calculate the point/s \n",
    "and use the expressions, equations or functions to calculate these point/s. If the solution is \n",
    "complex and not real, you can plot the graph of the complex equation.\n",
    "\n",
    "Guideline: {guideline}\n",
    "\"\"\"\n",
    ")\n",
    "\n",
    "chain_2 = LLMChain(llm=llm, prompt=prompt_2)"
   ]
  },
  {
   "cell_type": "code",
   "execution_count": 6,
   "metadata": {},
   "outputs": [],
   "source": [
    "from langchain.chains import SimpleSequentialChain\n",
    "\n",
    "simple_chain = SimpleSequentialChain(\n",
    "    chains=[chain_1, chain_2], \n",
    "    verbose=True\n",
    ")"
   ]
  },
  {
   "cell_type": "code",
   "execution_count": 7,
   "metadata": {},
   "outputs": [
    {
     "name": "stdout",
     "output_type": "stream",
     "text": [
      "\n",
      "\n",
      "\u001b[1m> Entering new SimpleSequentialChain chain...\u001b[0m\n",
      "\u001b[36;1m\u001b[1;3m**Equation:**\n",
      "\n",
      "```\n",
      "f(x) = sin(x)^3 - cos(x) - 4\n",
      "```\n",
      "\n",
      "**Guidelines for Plotting:**\n",
      "\n",
      "* Set the domain of x to be a range that includes multiple periods of both the sine and cosine functions. For example, [-2π, 2π].\n",
      "* Choose an appropriate range for the y-axis based on the expected values of the function.\n",
      "* Plot the curve of f(x) using a graphing calculator or software.\n",
      "\n",
      "**Expected Graph:**\n",
      "\n",
      "The graph of f(x) will have a complex shape with multiple peaks and valleys. It will intersect the x-axis at several points, corresponding to the solutions of the equation sin(x)^3 - cos(x) = 4.\u001b[0m\n",
      "\u001b[33;1m\u001b[1;3m```python\n",
      "import numpy as np\n",
      "import matplotlib.pyplot as plt\n",
      "\n",
      "# Define the function\n",
      "def f(x):\n",
      "    return np.sin(x)**3 - np.cos(x) - 4\n",
      "\n",
      "# Set the domain of x\n",
      "x = np.linspace(-2*np.pi, 2*np.pi, 1000)\n",
      "\n",
      "# Calculate the values of f(x)\n",
      "y = f(x)\n",
      "\n",
      "# Plot the graph\n",
      "plt.plot(x, y)\n",
      "plt.xlabel('x')\n",
      "plt.ylabel('f(x)')\n",
      "plt.title('Graph of f(x) = sin(x)^3 - cos(x) - 4')\n",
      "plt.show()\n",
      "```\u001b[0m\n",
      "\n",
      "\u001b[1m> Finished chain.\u001b[0m\n"
     ]
    }
   ],
   "source": [
    "response = simple_chain.run(\"sin(x)^3 -cos(x) = 4\")"
   ]
  },
  {
   "cell_type": "code",
   "execution_count": 8,
   "metadata": {},
   "outputs": [
    {
     "data": {
      "image/png": "[encoded data removed]",
      "text/plain": [
       "<Figure size 640x480 with 1 Axes>"
      ]
     },
     "metadata": {},
     "output_type": "display_data"
    }
   ],
   "source": [
    "exec(response.replace(\"`\", \"\").replace(\"python\", \"\"))"
   ]
  },
  {
   "cell_type": "code",
   "execution_count": 2,
   "metadata": {},
   "outputs": [
    {
     "name": "stderr",
     "output_type": "stream",
     "text": [
      "/home/vscode/.local/lib/python3.11/site-packages/langchain_core/_api/deprecation.py:119: LangChainDeprecationWarning: The class `LLMChain` was deprecated in LangChain 0.1.17 and will be removed in 0.3.0. Use RunnableSequence, e.g., `prompt | llm` instead.\n",
      "  warn_deprecated(\n"
     ]
    }
   ],
   "source": [
    "from langchain.prompts import PromptTemplate\n",
    "from langchain.chains import LLMChain\n",
    "\n",
    "prompt_1 = PromptTemplate(\n",
    "    template=\"\"\"\n",
    "Given the mathematical query, write the approach to solve the query, and some broad steps for \n",
    "the solution. Describe the approach briefly and add some guidelines for solution if required. \n",
    "The solution could also include non-real or complex equations or solutions.\n",
    "Do not include the solution itself, but the steps for solution. First consider whether solution \n",
    "could be real or complex, then solve for the answer.\n",
    "\n",
    "Query: {query}\n",
    "\"\"\", \n",
    "input_variables=['query']\n",
    ")\n",
    "chain_1 = LLMChain(llm=llm, prompt=prompt_1, output_key=\"guideline\")"
   ]
  },
  {
   "cell_type": "code",
   "execution_count": 3,
   "metadata": {},
   "outputs": [],
   "source": [
    "prompt_2 = PromptTemplate(\n",
    "    template=\"\"\"\n",
    "Based on the given guidelines, solve the each step of mathematical expression or function \n",
    "with detailed explaination of the solution. Explain the solution also in context of the given \n",
    "mathematical query. Perform each equation calculation carefully. The solution could also be non-real.\n",
    "Solve for the complex solution if required.\n",
    "\n",
    "Query: {query}\n",
    "\n",
    "Steps: {guideline}\n",
    "\"\"\",\n",
    "input_variables=['query', 'guideline']\n",
    ")\n",
    "\n",
    "chain_2 = LLMChain(llm=llm, prompt=prompt_2, output_key=\"solution\")"
   ]
  },
  {
   "cell_type": "code",
   "execution_count": 4,
   "metadata": {},
   "outputs": [],
   "source": [
    "from langchain.chains import SequentialChain\n",
    "\n",
    "simple_chain = SequentialChain(\n",
    "    chains=[chain_1, chain_2], \n",
    "    verbose=True, \n",
    "    input_variables=['query'],\n",
    "    output_variables=['solution']\n",
    ")"
   ]
  },
  {
   "cell_type": "code",
   "execution_count": 5,
   "metadata": {},
   "outputs": [
    {
     "name": "stderr",
     "output_type": "stream",
     "text": [
      "/home/vscode/.local/lib/python3.11/site-packages/langchain_core/_api/deprecation.py:119: LangChainDeprecationWarning: The method `Chain.run` was deprecated in langchain 0.1.0 and will be removed in 0.3.0. Use invoke instead.\n",
      "  warn_deprecated(\n"
     ]
    },
    {
     "name": "stdout",
     "output_type": "stream",
     "text": [
      "\n",
      "\n",
      "\u001b[1m> Entering new SequentialChain chain...\u001b[0m\n",
      "\n",
      "\u001b[1m> Finished chain.\u001b[0m\n"
     ]
    }
   ],
   "source": [
    "response = simple_chain.run(\"$$\\sin^3(x) - \\cos(x) = 4$$\")"
   ]
  },
  {
   "cell_type": "code",
   "execution_count": 6,
   "metadata": {},
   "outputs": [
    {
     "name": "stdout",
     "output_type": "stream",
     "text": [
      "**Step 1: Determine the Nature of the Solution**\n",
      "\n",
      "The equation involves trigonometric functions, which can have both real and complex solutions.\n",
      "\n",
      "**Step 2: Solve for Real Solutions**\n",
      "\n",
      "**Simplify using trigonometric identities:**\n",
      "\n",
      "$$\\sin^3(x) - \\cos(x) = 4$$\n",
      "\n",
      "$$\\Rightarrow \\sin^3(x) = \\cos(x) + 4$$\n",
      "\n",
      "$$\\Rightarrow \\sin^3(x) - \\cos^2(x) = 4 + \\cos^2(x)$$\n",
      "\n",
      "Using the identity $\\sin^2(x) + \\cos^2(x) = 1$:\n",
      "\n",
      "$$\\Rightarrow \\sin^3(x) - 1 = 4 + \\cos^2(x)$$\n",
      "\n",
      "$$\\Rightarrow \\sin^3(x) + \\cos^2(x) = 5$$\n",
      "\n",
      "$$\\Rightarrow 1 = 5$$\n",
      "\n",
      "This equation has no real solutions.\n",
      "\n",
      "**Step 3: Solve for Complex Solutions**\n",
      "\n",
      "**Use Euler's formula:**\n",
      "\n",
      "$$\\sin(x) = \\frac{e^{ix} - e^{-ix}}{2i}$$\n",
      "\n",
      "$$\\cos(x) = \\frac{e^{ix} + e^{-ix}}{2}$$\n",
      "\n",
      "Substitute these expressions into the original equation:\n",
      "\n",
      "$$\\left(\\frac{e^{ix} - e^{-ix}}{2i}\\right)^3 - \\frac{e^{ix} + e^{-ix}}{2} = 4$$\n",
      "\n",
      "Simplify:\n",
      "\n",
      "$$\\frac{(e^{ix} - e^{-ix})^3}{8i^3} - \\frac{e^{ix} + e^{-ix}}{2} = 4$$\n",
      "\n",
      "Multiply both sides by $8i^3$:\n",
      "\n",
      "$$(e^{3ix} - 3e^{ix} + 3e^{-ix} - e^{-3ix}) - 4i^3(e^{ix} + e^{-ix}) = 32i^3$$\n",
      "\n",
      "Simplify using the identities $i^2 = -1$ and $i^3 = -i$:\n",
      "\n",
      "$$e^{3ix} - 3e^{ix} + 3e^{-ix} - e^{-3ix} - 4i(e^{ix} + e^{-ix}) = 32i^3$$\n",
      "\n",
      "$$e^{3ix} - 7e^{ix} + 3e^{-ix} - e^{-3ix} - 4i(2\\cos(x)) = 32i^3$$\n",
      "\n",
      "$$e^{3ix} - 7e^{ix} + 3e^{-ix} - e^{-3ix} - 8i\\cos(x) = 32i^3$$\n",
      "\n",
      "**Factor as a polynomial in terms of $e^{ix}$:**\n",
      "\n",
      "$$(e^{ix} - e^{-ix})^3 - 8i\\cos(x) = 32i^3$$\n",
      "\n",
      "$$(2i\\sin(x))^3 - 8i\\cos(x) = 32i^3$$\n",
      "\n",
      "$$8i^3\\sin^3(x) - 8i\\cos(x) = 32i^3$$\n",
      "\n",
      "$$8i^2(i\\sin^3(x) - \\cos(x)) = 32i^3$$\n",
      "\n",
      "$$8i(i\\sin^3(x) - \\cos(x)) = 32i^2$$\n",
      "\n",
      "$$i\\sin^3(x) - \\cos(x) = 4i$$\n",
      "\n",
      "**Solve for $i\\sin^3(x)$:**\n",
      "\n",
      "$$i\\sin^3(x) = \\cos(x) + 4i$$\n",
      "\n",
      "$$i\\sin^3(x) = e^{i\\pi/2}\\cos(x) + 4i$$\n",
      "\n",
      "$$i\\sin^3(x) = e^{i\\pi/2}(\\cos(x) + 4i)$$\n",
      "\n",
      "**Divide both sides by $i$ and simplify:**\n",
      "\n",
      "$$\\sin^3(x) = e^{-i\\pi/2}(\\cos(x) + 4i)$$\n",
      "\n",
      "$$\\sin^3(x) = e^{-i\\pi/2}\\left(\\frac{e^{i\\pi/2} + 4ie^{i\\pi/2}}{e^{i\\pi/2}}\\right)$$\n",
      "\n",
      "$$\\sin^3(x) = e^{-i\\pi/2}\\left(\\frac{e^{i\\pi} + 4ie^{i\\pi}}{e^{i\\pi}}\\right)$$\n",
      "\n",
      "$$\\sin^3(x) = e^{-i\\pi/2}\\left(\\frac{-1 + 4i}{-1}\\right)$$\n",
      "\n",
      "$$\\sin^3(x) = e^{-i\\pi/2}(4i - 1)$$\n",
      "\n",
      "$$\\sin^3(x) = 4ie^{-i\\pi/2} - e^{-i\\pi/2}$$\n",
      "\n",
      "$$\\sin^3(x) = 4i(\\cos(x) - i\\sin(x)) - \\cos(x) + i\\sin(x)$$\n",
      "\n",
      "$$\\sin^3(x) = 4i\\cos(x) - 4\\sin(x) - \\cos(x) + i\\sin(x)$$\n",
      "\n",
      "$$\\sin^3(x) - 3\\cos(x) - 3i\\sin(x) = 0$$\n",
      "\n",
      "**Therefore, the complex solutions are given by:**\n",
      "\n",
      "$$\\sin^3(x) = 3\\cos(x) + 3i\\sin(x)$$\n",
      "\n",
      "**where $x$ is any real number.**\n"
     ]
    }
   ],
   "source": [
    "print(response)"
   ]
  },
  {
   "cell_type": "code",
   "execution_count": null,
   "metadata": {},
   "outputs": [],
   "source": []
  }
 ],
 "metadata": {
  "kernelspec": {
   "display_name": "Python 3",
   "language": "python",
   "name": "python3"
  },
  "language_info": {
   "codemirror_mode": {
    "name": "ipython",
    "version": 3
   },
   "file_extension": ".py",
   "mimetype": "text/x-python",
   "name": "python",
   "nbconvert_exporter": "python",
   "pygments_lexer": "ipython3",
   "version": "3.11.9"
  }
 },
 "nbformat": 4,
 "nbformat_minor": 2
}
