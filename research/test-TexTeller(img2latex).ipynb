{
 "cells": [
  {
   "cell_type": "code",
   "execution_count": 2,
   "id": "d4a73e00-40b6-4447-be08-5f958cac0730",
   "metadata": {},
   "outputs": [
    {
     "name": "stdout",
     "output_type": "stream",
     "text": [
      "Requirement already satisfied: transformers in /opt/conda/lib/python3.10/site-packages (4.41.2)\n",
      "Requirement already satisfied: pillow in /opt/conda/lib/python3.10/site-packages (10.3.0)\n",
      "Requirement already satisfied: filelock in /opt/conda/lib/python3.10/site-packages (from transformers) (3.13.4)\n",
      "Requirement already satisfied: huggingface-hub<1.0,>=0.23.0 in /opt/conda/lib/python3.10/site-packages (from transformers) (0.23.3)\n",
      "Requirement already satisfied: numpy>=1.17 in /opt/conda/lib/python3.10/site-packages (from transformers) (1.26.4)\n",
      "Requirement already satisfied: packaging>=20.0 in /opt/conda/lib/python3.10/site-packages (from transformers) (23.2)\n",
      "Requirement already satisfied: pyyaml>=5.1 in /opt/conda/lib/python3.10/site-packages (from transformers) (6.0.1)\n",
      "Requirement already satisfied: regex!=2019.12.17 in /opt/conda/lib/python3.10/site-packages (from transformers) (2023.12.25)\n",
      "Requirement already satisfied: requests in /opt/conda/lib/python3.10/site-packages (from transformers) (2.31.0)\n",
      "Requirement already satisfied: tokenizers<0.20,>=0.19 in /opt/conda/lib/python3.10/site-packages (from transformers) (0.19.1)\n",
      "Requirement already satisfied: safetensors>=0.4.1 in /opt/conda/lib/python3.10/site-packages (from transformers) (0.4.3)\n",
      "Requirement already satisfied: tqdm>=4.27 in /opt/conda/lib/python3.10/site-packages (from transformers) (4.66.1)\n",
      "Requirement already satisfied: fsspec>=2023.5.0 in /opt/conda/lib/python3.10/site-packages (from huggingface-hub<1.0,>=0.23.0->transformers) (2024.3.1)\n",
      "Requirement already satisfied: typing-extensions>=3.7.4.3 in /opt/conda/lib/python3.10/site-packages (from huggingface-hub<1.0,>=0.23.0->transformers) (4.11.0)\n",
      "Requirement already satisfied: charset-normalizer<4,>=2 in /opt/conda/lib/python3.10/site-packages (from requests->transformers) (3.3.2)\n",
      "Requirement already satisfied: idna<4,>=2.5 in /opt/conda/lib/python3.10/site-packages (from requests->transformers) (3.6)\n",
      "Requirement already satisfied: urllib3<3,>=1.21.1 in /opt/conda/lib/python3.10/site-packages (from requests->transformers) (2.2.1)\n",
      "Requirement already satisfied: certifi>=2017.4.17 in /opt/conda/lib/python3.10/site-packages (from requests->transformers) (2024.2.2)\n",
      "\u001b[33mWARNING: Running pip as the 'root' user can result in broken permissions and conflicting behaviour with the system package manager. It is recommended to use a virtual environment instead: https://pip.pypa.io/warnings/venv\u001b[0m\u001b[33m\n",
      "\u001b[0m"
     ]
    }
   ],
   "source": [
    "%pip install transformers pillow"
   ]
  },
  {
   "cell_type": "code",
   "execution_count": 6,
   "id": "0bd753be-07d8-484c-9db5-5599ccb166ec",
   "metadata": {},
   "outputs": [
    {
     "name": "stdout",
     "output_type": "stream",
     "text": [
      "Collecting opencv-python-headless\n",
      "  Downloading opencv_python_headless-4.10.0.82-cp37-abi3-manylinux_2_17_x86_64.manylinux2014_x86_64.whl.metadata (20 kB)\n",
      "Requirement already satisfied: numpy>=1.21.2 in /opt/conda/lib/python3.10/site-packages (from opencv-python-headless) (1.26.4)\n",
      "Downloading opencv_python_headless-4.10.0.82-cp37-abi3-manylinux_2_17_x86_64.manylinux2014_x86_64.whl (49.9 MB)\n",
      "\u001b[2K   \u001b[90m━━━━━━━━━━━━━━━━━━━━━━━━━━━━━━━━━━━━━━━━\u001b[0m \u001b[32m49.9/49.9 MB\u001b[0m \u001b[31m25.6 MB/s\u001b[0m eta \u001b[36m0:00:00\u001b[0m00:01\u001b[0m00:01\u001b[0mm\n",
      "\u001b[?25hInstalling collected packages: opencv-python-headless\n",
      "Successfully installed opencv-python-headless-4.10.0.82\n",
      "\u001b[33mWARNING: Running pip as the 'root' user can result in broken permissions and conflicting behaviour with the system package manager. It is recommended to use a virtual environment instead: https://pip.pypa.io/warnings/venv\u001b[0m\u001b[33m\n",
      "\u001b[0m"
     ]
    }
   ],
   "source": [
    "%pip install opencv-python-headless"
   ]
  },
  {
   "cell_type": "code",
   "execution_count": 30,
   "id": "1af5c7ab-8b48-4e0d-b84b-c1f17fc67762",
   "metadata": {},
   "outputs": [],
   "source": [
    "import cv2\n",
    "from torchvision.transforms import v2\n",
    "from PIL import Image\n",
    "from typing import List, Union\n",
    "from collections import Counter\n",
    "import torch\n",
    "import numpy as np\n",
    "import random\n",
    "from transformers import (\n",
    "    RobertaTokenizerFast,\n",
    "    VisionEncoderDecoderModel,\n",
    "    GenerationConfig,\n",
    ")\n",
    "from matplotlib import pyplot as plt"
   ]
  },
  {
   "cell_type": "code",
   "execution_count": 8,
   "id": "c0f0afab-7cc1-48ab-9914-51537dafd713",
   "metadata": {},
   "outputs": [
    {
     "name": "stderr",
     "output_type": "stream",
     "text": [
      "Special tokens have been added in the vocabulary, make sure the associated word embeddings are fine-tuned or trained.\n"
     ]
    }
   ],
   "source": [
    "tokenizer = RobertaTokenizerFast.from_pretrained(\"OleehyO/TexTeller\")\n",
    "model = VisionEncoderDecoderModel.from_pretrained(\"OleehyO/TexTeller\")"
   ]
  },
  {
   "cell_type": "code",
   "execution_count": 13,
   "id": "f8808861-c349-4952-9307-498bbf10913f",
   "metadata": {},
   "outputs": [],
   "source": [
    "IMAGE_MEAN = 0.9545467\n",
    "IMAGE_STD  = 0.15394445\n",
    "FIXED_IMG_SIZE = 448"
   ]
  },
  {
   "cell_type": "code",
   "execution_count": 14,
   "id": "1c4cbdb1-da31-4a7e-8df7-ddbac412837e",
   "metadata": {},
   "outputs": [],
   "source": [
    "general_transform_pipeline = v2.Compose([\n",
    "    v2.ToImage(),    \n",
    "    v2.ToDtype(torch.uint8, scale=True),  # optional, most input are already uint8 at this point\n",
    "    v2.Grayscale(),\n",
    "\n",
    "    v2.Resize(\n",
    "        size=FIXED_IMG_SIZE - 1,\n",
    "        interpolation=v2.InterpolationMode.BICUBIC,\n",
    "        max_size=FIXED_IMG_SIZE,\n",
    "        antialias=True\n",
    "    ),\n",
    "\n",
    "    v2.ToDtype(torch.float32, scale=True),  # Normalize expects float input\n",
    "    v2.Normalize(mean=[IMAGE_MEAN], std=[IMAGE_STD]),\n",
    "\n",
    "    # v2.ToPILImage()\n",
    "])"
   ]
  },
  {
   "cell_type": "code",
   "execution_count": 15,
   "id": "7e11c2ac-e23c-4c79-b401-4c320fa878d5",
   "metadata": {},
   "outputs": [],
   "source": [
    "def trim_white_border(image: np.ndarray):\n",
    "    if len(image.shape) != 3 or image.shape[2] != 3:\n",
    "        raise ValueError(\"Image is not in RGB format or channel is not in third dimension\")\n",
    "\n",
    "    if image.dtype != np.uint8:\n",
    "        raise ValueError(f\"Image should stored in uint8\")\n",
    "\n",
    "    corners = [tuple(image[0, 0]), tuple(image[0, -1]),\n",
    "               tuple(image[-1, 0]), tuple(image[-1, -1])]\n",
    "    bg_color = Counter(corners).most_common(1)[0][0]\n",
    "    bg_color_np = np.array(bg_color, dtype=np.uint8)\n",
    "    \n",
    "    h, w = image.shape[:2]\n",
    "    bg = np.full((h, w, 3), bg_color_np, dtype=np.uint8)\n",
    "\n",
    "    diff = cv2.absdiff(image, bg)\n",
    "    mask = cv2.cvtColor(diff, cv2.COLOR_BGR2GRAY)\n",
    "\n",
    "    threshold = 15\n",
    "    _, diff = cv2.threshold(mask, threshold, 255, cv2.THRESH_BINARY)\n",
    "\n",
    "    x, y, w, h = cv2.boundingRect(diff) \n",
    "\n",
    "    trimmed_image = image[y:y+h, x:x+w]\n",
    "\n",
    "    return trimmed_image\n",
    "\n",
    "def padding(images: List[torch.Tensor], required_size: int) -> List[torch.Tensor]:\n",
    "    images = [  \n",
    "        v2.functional.pad(\n",
    "            img,\n",
    "            padding=[0, 0, required_size - img.shape[2], required_size - img.shape[1]]\n",
    "        )\n",
    "        for img in images\n",
    "    ]\n",
    "    return images"
   ]
  },
  {
   "cell_type": "code",
   "execution_count": 16,
   "id": "aacc9470-2e44-4515-a121-388c217dc6c7",
   "metadata": {},
   "outputs": [],
   "source": [
    "def inference_transform(images: List[Union[np.ndarray, Image.Image]]) -> List[torch.Tensor]:\n",
    "    assert IMG_CHANNELS == 1 , \"Only support grayscale images for now\"\n",
    "    images = [np.array(img.convert('RGB')) if isinstance(img, Image.Image) else img for img in images]\n",
    "    images = [trim_white_border(image) for image in images]\n",
    "    # general transform pipeline\n",
    "    images = [general_transform_pipeline(image) for image in  images]  # imgs: List[PIL.Image.Image]\n",
    "    # padding to fixed size\n",
    "    images = padding(images, FIXED_IMG_SIZE)\n",
    "\n",
    "    return images"
   ]
  },
  {
   "cell_type": "code",
   "execution_count": 25,
   "id": "6b0bde7f-6587-44da-861f-c6a982581b94",
   "metadata": {},
   "outputs": [],
   "source": [
    "def inference(\n",
    "    model, \n",
    "    tokenizer,\n",
    "    imgs: Union[List[str], List[np.ndarray]], \n",
    "    accelerator: str = 'cpu',\n",
    "    num_beams: int = 1,\n",
    "    max_tokens = None\n",
    ") -> List[str]:\n",
    "    if imgs == []:\n",
    "        return []\n",
    "    model.eval()\n",
    "    if isinstance(imgs[0], str):\n",
    "        imgs = convert2rgb(imgs) \n",
    "    else:  # already numpy array(rgb format)\n",
    "        assert isinstance(imgs[0], np.ndarray)\n",
    "        imgs = imgs \n",
    "    imgs = inference_transform(imgs)\n",
    "    pixel_values = torch.stack(imgs)\n",
    "\n",
    "    # model = model.to(accelerator)\n",
    "    # pixel_values = pixel_values.to(accelerator)\n",
    "\n",
    "    generate_config = GenerationConfig(\n",
    "        max_new_tokens=MAX_TOKEN_SIZE if max_tokens is None else max_tokens,\n",
    "        num_beams=num_beams,\n",
    "        do_sample=False,\n",
    "        pad_token_id=tokenizer.pad_token_id,\n",
    "        eos_token_id=tokenizer.eos_token_id,\n",
    "        bos_token_id=tokenizer.bos_token_id,\n",
    "    )\n",
    "    pred = model.generate(pixel_values, generation_config=generate_config)\n",
    "    res = tokenizer.batch_decode(pred, skip_special_tokens=True)\n",
    "    return res"
   ]
  },
  {
   "cell_type": "code",
   "execution_count": 36,
   "id": "f69930cd-7439-4921-94b6-aa22cab1201d",
   "metadata": {},
   "outputs": [],
   "source": [
    "import re\n",
    "\n",
    "\n",
    "def change(input_str, old_inst, new_inst, old_surr_l, old_surr_r, new_surr_l, new_surr_r):\n",
    "    result = \"\"\n",
    "    i = 0\n",
    "    n = len(input_str)\n",
    "    \n",
    "    while i < n:\n",
    "        if input_str[i:i+len(old_inst)] == old_inst:\n",
    "            # check if the old_inst is followed by old_surr_l\n",
    "            start = i + len(old_inst)\n",
    "        else:\n",
    "            result += input_str[i]\n",
    "            i += 1\n",
    "            continue\n",
    "\n",
    "        if start < n and input_str[start] == old_surr_l:\n",
    "            # found an old_inst followed by old_surr_l, now look for the matching old_surr_r\n",
    "            count = 1\n",
    "            j = start + 1\n",
    "            escaped = False\n",
    "            while j < n and count > 0:\n",
    "                if input_str[j] == '\\\\' and not escaped:\n",
    "                    escaped = True\n",
    "                    j += 1\n",
    "                    continue\n",
    "                if input_str[j] == old_surr_r and not escaped:\n",
    "                    count -= 1\n",
    "                    if count == 0:\n",
    "                        break\n",
    "                elif input_str[j] == old_surr_l and not escaped:\n",
    "                    count += 1\n",
    "                escaped = False\n",
    "                j += 1\n",
    "            \n",
    "            if count == 0:\n",
    "                assert j < n\n",
    "                assert input_str[start] == old_surr_l\n",
    "                assert input_str[j] == old_surr_r\n",
    "                inner_content = input_str[start + 1:j]\n",
    "                # Replace the content with new pattern\n",
    "                result += new_inst + new_surr_l + inner_content + new_surr_r\n",
    "                i = j + 1\n",
    "                continue\n",
    "            else:\n",
    "                assert count >= 1\n",
    "                assert j == n\n",
    "                print(\"Warning: unbalanced surrogate pair in input string\")\n",
    "                result += new_inst + new_surr_l\n",
    "                i = start + 1\n",
    "                continue\n",
    "        else:\n",
    "            result += input_str[i:start]\n",
    "            i = start\n",
    "    \n",
    "    if old_inst != new_inst and (old_inst + old_surr_l) in result:\n",
    "        return change(result, old_inst, new_inst, old_surr_l, old_surr_r, new_surr_l, new_surr_r)\n",
    "    else:\n",
    "        return result\n",
    "\n",
    "\n",
    "def find_substring_positions(string, substring):\n",
    "    positions = [match.start() for match in re.finditer(re.escape(substring), string)]\n",
    "    return positions\n",
    "\n",
    "\n",
    "def rm_dollar_surr(content):\n",
    "    pattern = re.compile(r'\\\\[a-zA-Z]+\\$.*?\\$|\\$.*?\\$')\n",
    "    matches = pattern.findall(content)\n",
    "    \n",
    "    for match in matches:\n",
    "        if not re.match(r'\\\\[a-zA-Z]+', match):\n",
    "            new_match = match.strip('$')\n",
    "            content = content.replace(match, ' ' + new_match + ' ')\n",
    "    \n",
    "    return content\n",
    "\n",
    "\n",
    "def change_all(input_str, old_inst, new_inst, old_surr_l, old_surr_r, new_surr_l, new_surr_r):\n",
    "    pos = find_substring_positions(input_str, old_inst + old_surr_l)\n",
    "    res = list(input_str)\n",
    "    for p in pos[::-1]:\n",
    "        res[p:] = list(change(''.join(res[p:]), old_inst, new_inst, old_surr_l, old_surr_r, new_surr_l, new_surr_r))\n",
    "    res = ''.join(res)\n",
    "    return res\n",
    "\n",
    "\n",
    "def to_katex(formula: str) -> str:\n",
    "    res = formula\n",
    "    # remove mbox surrounding\n",
    "    res = change_all(res, r'\\mbox ', r' ', r'{', r'}', r'', r'')\n",
    "    res = change_all(res, r'\\mbox', r' ', r'{', r'}', r'', r'')\n",
    "    # remove hbox surrounding\n",
    "    res = re.sub(r'\\\\hbox to ?-? ?\\d+\\.\\d+(pt)?\\{', r'\\\\hbox{', res)\n",
    "    res = change_all(res, r'\\hbox', r' ', r'{', r'}', r'', r' ')\n",
    "    # remove raise surrounding\n",
    "    res = re.sub(r'\\\\raise ?-? ?\\d+\\.\\d+(pt)?', r' ', res)\n",
    "    # remove makebox\n",
    "    res = re.sub(r'\\\\makebox ?\\[\\d+\\.\\d+(pt)?\\]\\{', r'\\\\makebox{', res)\n",
    "    res = change_all(res, r'\\makebox', r' ', r'{', r'}', r'', r' ')\n",
    "    # remove vbox surrounding, scalebox surrounding\n",
    "    res = re.sub(r'\\\\raisebox\\{-? ?\\d+\\.\\d+(pt)?\\}\\{', r'\\\\raisebox{', res)\n",
    "    res = re.sub(r'\\\\scalebox\\{-? ?\\d+\\.\\d+(pt)?\\}\\{', r'\\\\scalebox{', res)\n",
    "    res = change_all(res, r'\\scalebox', r' ', r'{', r'}', r'', r' ')\n",
    "    res = change_all(res, r'\\raisebox', r' ', r'{', r'}', r'', r' ')\n",
    "    res = change_all(res, r'\\vbox', r' ', r'{', r'}', r'', r' ')\n",
    "\n",
    "\n",
    "    origin_instructions = [\n",
    "        r'\\Huge',\n",
    "        r'\\huge',\n",
    "        r'\\LARGE',\n",
    "        r'\\Large',\n",
    "        r'\\large',\n",
    "        r'\\normalsize',\n",
    "        r'\\small',\n",
    "        r'\\footnotesize',\n",
    "        r'\\tiny'\n",
    "    ]\n",
    "    for (old_ins, new_ins) in zip(origin_instructions, origin_instructions):\n",
    "        res = change_all(res, old_ins, new_ins, r'$', r'$', '{', '}')\n",
    "    res = change_all(res, r'\\boldmath ', r'\\bm', r'{', r'}', r'{', r'}')\n",
    "    res = change_all(res, r'\\boldmath', r'\\bm', r'{', r'}', r'{', r'}')\n",
    "    res = change_all(res, r'\\boldmath ', r'\\bm', r'$', r'$', r'{', r'}')\n",
    "    res = change_all(res, r'\\boldmath', r'\\bm', r'$', r'$', r'{', r'}')\n",
    "    res = change_all(res, r'\\scriptsize', r'\\scriptsize', r'$', r'$', r'{', r'}')\n",
    "    res = change_all(res, r'\\emph', r'\\textit', r'{', r'}', r'{', r'}')\n",
    "    res = change_all(res, r'\\emph ', r'\\textit', r'{', r'}', r'{', r'}')\n",
    "    \n",
    "    origin_instructions = [\n",
    "        r'\\left',\n",
    "        r'\\middle',\n",
    "        r'\\right',\n",
    "        r'\\big',\n",
    "        r'\\Big',\n",
    "        r'\\bigg',\n",
    "        r'\\Bigg',\n",
    "        r'\\bigl',\n",
    "        r'\\Bigl',\n",
    "        r'\\biggl',\n",
    "        r'\\Biggl',\n",
    "        r'\\bigm',\n",
    "        r'\\Bigm',\n",
    "        r'\\biggm',\n",
    "        r'\\Biggm',\n",
    "        r'\\bigr',\n",
    "        r'\\Bigr',\n",
    "        r'\\biggr',\n",
    "        r'\\Biggr'\n",
    "    ]\n",
    "    for origin_ins in origin_instructions:\n",
    "        res = change_all(res, origin_ins, origin_ins, r'{', r'}', r'', r'')\n",
    "\n",
    "    res = re.sub(r'\\\\\\[(.*?)\\\\\\]', r'\\1\\\\newline', res)\n",
    "\n",
    "    if res.endswith(r'\\newline'):\n",
    "        res = res[:-8]\n",
    "\n",
    "    # remove multiple spaces\n",
    "    res = re.sub(r'(\\\\,){1,}', ' ', res)\n",
    "    res = re.sub(r'(\\\\!){1,}', ' ', res)\n",
    "    res = re.sub(r'(\\\\;){1,}', ' ', res)\n",
    "    res = re.sub(r'(\\\\:){1,}', ' ', res)\n",
    "    res = re.sub(r'\\\\vspace\\{.*?}', '', res)\n",
    "\n",
    "    # merge consecutive text\n",
    "    def merge_texts(match):\n",
    "        texts = match.group(0)\n",
    "        merged_content = ''.join(re.findall(r'\\\\text\\{([^}]*)\\}', texts))\n",
    "        return f'\\\\text{{{merged_content}}}'\n",
    "    res = re.sub(r'(\\\\text\\{[^}]*\\}\\s*){2,}', merge_texts, res)\n",
    "\n",
    "    res = res.replace(r'\\bf ', '')\n",
    "    res = rm_dollar_surr(res)\n",
    "\n",
    "    # remove extra spaces (keeping only one)\n",
    "    res = re.sub(r' +', ' ', res)\n",
    "\n",
    "    return res.strip()"
   ]
  },
  {
   "cell_type": "code",
   "execution_count": 37,
   "id": "a420d841-bf60-42c0-a940-325381d66562",
   "metadata": {},
   "outputs": [
    {
     "data": {
      "text/plain": [
       "<matplotlib.image.AxesImage at 0x7f90c41adf90>"
      ]
     },
     "execution_count": 37,
     "metadata": {},
     "output_type": "execute_result"
    },
    {
     "data": {
      "image/png": "[encoded data removed]",
      "text/plain": [
       "<Figure size 640x480 with 1 Axes>"
      ]
     },
     "metadata": {},
     "output_type": "display_data"
    }
   ],
   "source": [
    "img_path = \"Plus-One-Maths-Chapter-Wise-Questions-and-Answers-Chapter-3-Trigonometric-Functions-3M-Q1.jpg\"\n",
    "img = cv2.imread(img_path)\n",
    "plt.imshow(img)"
   ]
  },
  {
   "cell_type": "code",
   "execution_count": 38,
   "id": "670a3858-71d0-4182-be13-1cfcd0502939",
   "metadata": {},
   "outputs": [
    {
     "data": {
      "text/plain": [
       "['\\\\[\\\\begin{split}&\\\\text{\\\\sf{ij}}\\\\quad\\\\cos\\\\!\\\\!\\\\left(\\\\frac{\\\\pi}{4}+x \\\\right)\\\\!+\\\\cos\\\\!\\\\!\\\\left(\\\\frac{\\\\pi}{4}-x\\\\right)\\\\!\\\\!=\\\\!\\\\sqrt{2}\\\\,\\\\cos x\\\\\\\\ &\\\\text{\\\\sf{iii)}}\\\\quad\\\\frac{\\\\sin\\\\,5x+\\\\sin\\\\,x-2\\\\sin\\\\,3x}{\\\\cos 5x- \\\\cos x}\\\\!=\\\\tan x\\\\\\\\ &\\\\text{\\\\sf{iii)}}\\\\ \\\\ \\\\sin 2x+2\\\\sin\\\\,4x+\\\\!\\\\sin 6x\\\\!=\\\\!4\\\\cos^{ \\\\!2}x\\\\sin 4x\\\\\\\\ &\\\\text{\\\\sf{iv)}}\\\\ \\\\ \\\\frac{\\\\sin\\\\,x-\\\\sin\\\\,3x}{\\\\sin^{\\\\,{}^{2}}x-\\\\cos^{ \\\\!{}^{2}}x}=2\\\\sin\\\\,x\\\\\\\\ &\\\\text{\\\\sf{iv)}}\\\\ \\\\ \\\\frac{\\\\cos 2x}{1+\\\\sin\\\\,2x}=\\\\tan\\\\!\\\\!\\\\left(\\\\frac{\\\\pi}{4}-x \\\\right)\\\\\\\\ &\\\\text{\\\\sf{vii)}}\\\\ \\\\ \\\\frac{\\\\sin\\\\,3x}{1+2\\\\cos 2x}=\\\\sin\\\\,x\\\\\\\\ &\\\\text{\\\\sf{viii)}}\\\\ \\\\ \\\\sin^{\\\\,{}^{2}}6x-\\\\sin^{\\\\,{}^{2}}4x=\\\\sin\\\\,2x\\\\sin 10x \\\\\\\\ &\\\\text{\\\\sf{viii)}}\\\\ \\\\ \\\\frac{\\\\cos 4x+\\\\cos 3x+\\\\cos 2x}{\\\\sin 4x+\\\\sin 3x+\\\\sin 2x}= \\\\cot 3x\\\\end{split}\\\\]']"
      ]
     },
     "execution_count": 38,
     "metadata": {},
     "output_type": "execute_result"
    }
   ],
   "source": [
    "res = inference(model, tokenizer, [img])\n",
    "res"
   ]
  },
  {
   "cell_type": "code",
   "execution_count": 39,
   "id": "23e832f0-0673-4fca-b068-2ac3b94b26f2",
   "metadata": {},
   "outputs": [
    {
     "name": "stdout",
     "output_type": "stream",
     "text": [
      "\\begin{split}&\\text{\\sf{ij}}\\quad\\cos \\left(\\frac{\\pi}{4}+x \\right) +\\cos \\left(\\frac{\\pi}{4}-x\\right) = \\sqrt{2} \\cos x\\\\ &\\text{\\sf{iii)}}\\quad\\frac{\\sin 5x+\\sin x-2\\sin 3x}{\\cos 5x- \\cos x} =\\tan x\\\\ &\\text{\\sf{iii)}}\\ \\ \\sin 2x+2\\sin 4x+ \\sin 6x = 4\\cos^{ 2}x\\sin 4x\\\\ &\\text{\\sf{iv)}}\\ \\ \\frac{\\sin x-\\sin 3x}{\\sin^{ {}^{2}}x-\\cos^{ {}^{2}}x}=2\\sin x\\\\ &\\text{\\sf{iv)}}\\ \\ \\frac{\\cos 2x}{1+\\sin 2x}=\\tan \\left(\\frac{\\pi}{4}-x \\right)\\\\ &\\text{\\sf{vii)}}\\ \\ \\frac{\\sin 3x}{1+2\\cos 2x}=\\sin x\\\\ &\\text{\\sf{viii)}}\\ \\ \\sin^{ {}^{2}}6x-\\sin^{ {}^{2}}4x=\\sin 2x\\sin 10x \\\\ &\\text{\\sf{viii)}}\\ \\ \\frac{\\cos 4x+\\cos 3x+\\cos 2x}{\\sin 4x+\\sin 3x+\\sin 2x}= \\cot 3x\\end{split}\n"
     ]
    }
   ],
   "source": [
    "res = to_katex(res[0])\n",
    "print(res)"
   ]
  },
  {
   "cell_type": "code",
   "execution_count": null,
   "id": "16399ea2-11f2-4b71-8645-22b28e37a05e",
   "metadata": {},
   "outputs": [],
   "source": []
  }
 ],
 "metadata": {
  "availableInstances": [
   {
    "_defaultOrder": 0,
    "_isFastLaunch": true,
    "category": "General purpose",
    "gpuNum": 0,
    "hideHardwareSpecs": false,
    "memoryGiB": 4,
    "name": "ml.t3.medium",
    "vcpuNum": 2
   },
   {
    "_defaultOrder": 1,
    "_isFastLaunch": false,
    "category": "General purpose",
    "gpuNum": 0,
    "hideHardwareSpecs": false,
    "memoryGiB": 8,
    "name": "ml.t3.large",
    "vcpuNum": 2
   },
   {
    "_defaultOrder": 2,
    "_isFastLaunch": false,
    "category": "General purpose",
    "gpuNum": 0,
    "hideHardwareSpecs": false,
    "memoryGiB": 16,
    "name": "ml.t3.xlarge",
    "vcpuNum": 4
   },
   {
    "_defaultOrder": 3,
    "_isFastLaunch": false,
    "category": "General purpose",
    "gpuNum": 0,
    "hideHardwareSpecs": false,
    "memoryGiB": 32,
    "name": "ml.t3.2xlarge",
    "vcpuNum": 8
   },
   {
    "_defaultOrder": 4,
    "_isFastLaunch": true,
    "category": "General purpose",
    "gpuNum": 0,
    "hideHardwareSpecs": false,
    "memoryGiB": 8,
    "name": "ml.m5.large",
    "vcpuNum": 2
   },
   {
    "_defaultOrder": 5,
    "_isFastLaunch": false,
    "category": "General purpose",
    "gpuNum": 0,
    "hideHardwareSpecs": false,
    "memoryGiB": 16,
    "name": "ml.m5.xlarge",
    "vcpuNum": 4
   },
   {
    "_defaultOrder": 6,
    "_isFastLaunch": false,
    "category": "General purpose",
    "gpuNum": 0,
    "hideHardwareSpecs": false,
    "memoryGiB": 32,
    "name": "ml.m5.2xlarge",
    "vcpuNum": 8
   },
   {
    "_defaultOrder": 7,
    "_isFastLaunch": false,
    "category": "General purpose",
    "gpuNum": 0,
    "hideHardwareSpecs": false,
    "memoryGiB": 64,
    "name": "ml.m5.4xlarge",
    "vcpuNum": 16
   },
   {
    "_defaultOrder": 8,
    "_isFastLaunch": false,
    "category": "General purpose",
    "gpuNum": 0,
    "hideHardwareSpecs": false,
    "memoryGiB": 128,
    "name": "ml.m5.8xlarge",
    "vcpuNum": 32
   },
   {
    "_defaultOrder": 9,
    "_isFastLaunch": false,
    "category": "General purpose",
    "gpuNum": 0,
    "hideHardwareSpecs": false,
    "memoryGiB": 192,
    "name": "ml.m5.12xlarge",
    "vcpuNum": 48
   },
   {
    "_defaultOrder": 10,
    "_isFastLaunch": false,
    "category": "General purpose",
    "gpuNum": 0,
    "hideHardwareSpecs": false,
    "memoryGiB": 256,
    "name": "ml.m5.16xlarge",
    "vcpuNum": 64
   },
   {
    "_defaultOrder": 11,
    "_isFastLaunch": false,
    "category": "General purpose",
    "gpuNum": 0,
    "hideHardwareSpecs": false,
    "memoryGiB": 384,
    "name": "ml.m5.24xlarge",
    "vcpuNum": 96
   },
   {
    "_defaultOrder": 12,
    "_isFastLaunch": false,
    "category": "General purpose",
    "gpuNum": 0,
    "hideHardwareSpecs": false,
    "memoryGiB": 8,
    "name": "ml.m5d.large",
    "vcpuNum": 2
   },
   {
    "_defaultOrder": 13,
    "_isFastLaunch": false,
    "category": "General purpose",
    "gpuNum": 0,
    "hideHardwareSpecs": false,
    "memoryGiB": 16,
    "name": "ml.m5d.xlarge",
    "vcpuNum": 4
   },
   {
    "_defaultOrder": 14,
    "_isFastLaunch": false,
    "category": "General purpose",
    "gpuNum": 0,
    "hideHardwareSpecs": false,
    "memoryGiB": 32,
    "name": "ml.m5d.2xlarge",
    "vcpuNum": 8
   },
   {
    "_defaultOrder": 15,
    "_isFastLaunch": false,
    "category": "General purpose",
    "gpuNum": 0,
    "hideHardwareSpecs": false,
    "memoryGiB": 64,
    "name": "ml.m5d.4xlarge",
    "vcpuNum": 16
   },
   {
    "_defaultOrder": 16,
    "_isFastLaunch": false,
    "category": "General purpose",
    "gpuNum": 0,
    "hideHardwareSpecs": false,
    "memoryGiB": 128,
    "name": "ml.m5d.8xlarge",
    "vcpuNum": 32
   },
   {
    "_defaultOrder": 17,
    "_isFastLaunch": false,
    "category": "General purpose",
    "gpuNum": 0,
    "hideHardwareSpecs": false,
    "memoryGiB": 192,
    "name": "ml.m5d.12xlarge",
    "vcpuNum": 48
   },
   {
    "_defaultOrder": 18,
    "_isFastLaunch": false,
    "category": "General purpose",
    "gpuNum": 0,
    "hideHardwareSpecs": false,
    "memoryGiB": 256,
    "name": "ml.m5d.16xlarge",
    "vcpuNum": 64
   },
   {
    "_defaultOrder": 19,
    "_isFastLaunch": false,
    "category": "General purpose",
    "gpuNum": 0,
    "hideHardwareSpecs": false,
    "memoryGiB": 384,
    "name": "ml.m5d.24xlarge",
    "vcpuNum": 96
   },
   {
    "_defaultOrder": 20,
    "_isFastLaunch": false,
    "category": "General purpose",
    "gpuNum": 0,
    "hideHardwareSpecs": true,
    "memoryGiB": 0,
    "name": "ml.geospatial.interactive",
    "supportedImageNames": [
     "sagemaker-geospatial-v1-0"
    ],
    "vcpuNum": 0
   },
   {
    "_defaultOrder": 21,
    "_isFastLaunch": true,
    "category": "Compute optimized",
    "gpuNum": 0,
    "hideHardwareSpecs": false,
    "memoryGiB": 4,
    "name": "ml.c5.large",
    "vcpuNum": 2
   },
   {
    "_defaultOrder": 22,
    "_isFastLaunch": false,
    "category": "Compute optimized",
    "gpuNum": 0,
    "hideHardwareSpecs": false,
    "memoryGiB": 8,
    "name": "ml.c5.xlarge",
    "vcpuNum": 4
   },
   {
    "_defaultOrder": 23,
    "_isFastLaunch": false,
    "category": "Compute optimized",
    "gpuNum": 0,
    "hideHardwareSpecs": false,
    "memoryGiB": 16,
    "name": "ml.c5.2xlarge",
    "vcpuNum": 8
   },
   {
    "_defaultOrder": 24,
    "_isFastLaunch": false,
    "category": "Compute optimized",
    "gpuNum": 0,
    "hideHardwareSpecs": false,
    "memoryGiB": 32,
    "name": "ml.c5.4xlarge",
    "vcpuNum": 16
   },
   {
    "_defaultOrder": 25,
    "_isFastLaunch": false,
    "category": "Compute optimized",
    "gpuNum": 0,
    "hideHardwareSpecs": false,
    "memoryGiB": 72,
    "name": "ml.c5.9xlarge",
    "vcpuNum": 36
   },
   {
    "_defaultOrder": 26,
    "_isFastLaunch": false,
    "category": "Compute optimized",
    "gpuNum": 0,
    "hideHardwareSpecs": false,
    "memoryGiB": 96,
    "name": "ml.c5.12xlarge",
    "vcpuNum": 48
   },
   {
    "_defaultOrder": 27,
    "_isFastLaunch": false,
    "category": "Compute optimized",
    "gpuNum": 0,
    "hideHardwareSpecs": false,
    "memoryGiB": 144,
    "name": "ml.c5.18xlarge",
    "vcpuNum": 72
   },
   {
    "_defaultOrder": 28,
    "_isFastLaunch": false,
    "category": "Compute optimized",
    "gpuNum": 0,
    "hideHardwareSpecs": false,
    "memoryGiB": 192,
    "name": "ml.c5.24xlarge",
    "vcpuNum": 96
   },
   {
    "_defaultOrder": 29,
    "_isFastLaunch": true,
    "category": "Accelerated computing",
    "gpuNum": 1,
    "hideHardwareSpecs": false,
    "memoryGiB": 16,
    "name": "ml.g4dn.xlarge",
    "vcpuNum": 4
   },
   {
    "_defaultOrder": 30,
    "_isFastLaunch": false,
    "category": "Accelerated computing",
    "gpuNum": 1,
    "hideHardwareSpecs": false,
    "memoryGiB": 32,
    "name": "ml.g4dn.2xlarge",
    "vcpuNum": 8
   },
   {
    "_defaultOrder": 31,
    "_isFastLaunch": false,
    "category": "Accelerated computing",
    "gpuNum": 1,
    "hideHardwareSpecs": false,
    "memoryGiB": 64,
    "name": "ml.g4dn.4xlarge",
    "vcpuNum": 16
   },
   {
    "_defaultOrder": 32,
    "_isFastLaunch": false,
    "category": "Accelerated computing",
    "gpuNum": 1,
    "hideHardwareSpecs": false,
    "memoryGiB": 128,
    "name": "ml.g4dn.8xlarge",
    "vcpuNum": 32
   },
   {
    "_defaultOrder": 33,
    "_isFastLaunch": false,
    "category": "Accelerated computing",
    "gpuNum": 4,
    "hideHardwareSpecs": false,
    "memoryGiB": 192,
    "name": "ml.g4dn.12xlarge",
    "vcpuNum": 48
   },
   {
    "_defaultOrder": 34,
    "_isFastLaunch": false,
    "category": "Accelerated computing",
    "gpuNum": 1,
    "hideHardwareSpecs": false,
    "memoryGiB": 256,
    "name": "ml.g4dn.16xlarge",
    "vcpuNum": 64
   },
   {
    "_defaultOrder": 35,
    "_isFastLaunch": false,
    "category": "Accelerated computing",
    "gpuNum": 1,
    "hideHardwareSpecs": false,
    "memoryGiB": 61,
    "name": "ml.p3.2xlarge",
    "vcpuNum": 8
   },
   {
    "_defaultOrder": 36,
    "_isFastLaunch": false,
    "category": "Accelerated computing",
    "gpuNum": 4,
    "hideHardwareSpecs": false,
    "memoryGiB": 244,
    "name": "ml.p3.8xlarge",
    "vcpuNum": 32
   },
   {
    "_defaultOrder": 37,
    "_isFastLaunch": false,
    "category": "Accelerated computing",
    "gpuNum": 8,
    "hideHardwareSpecs": false,
    "memoryGiB": 488,
    "name": "ml.p3.16xlarge",
    "vcpuNum": 64
   },
   {
    "_defaultOrder": 38,
    "_isFastLaunch": false,
    "category": "Accelerated computing",
    "gpuNum": 8,
    "hideHardwareSpecs": false,
    "memoryGiB": 768,
    "name": "ml.p3dn.24xlarge",
    "vcpuNum": 96
   },
   {
    "_defaultOrder": 39,
    "_isFastLaunch": false,
    "category": "Memory Optimized",
    "gpuNum": 0,
    "hideHardwareSpecs": false,
    "memoryGiB": 16,
    "name": "ml.r5.large",
    "vcpuNum": 2
   },
   {
    "_defaultOrder": 40,
    "_isFastLaunch": false,
    "category": "Memory Optimized",
    "gpuNum": 0,
    "hideHardwareSpecs": false,
    "memoryGiB": 32,
    "name": "ml.r5.xlarge",
    "vcpuNum": 4
   },
   {
    "_defaultOrder": 41,
    "_isFastLaunch": false,
    "category": "Memory Optimized",
    "gpuNum": 0,
    "hideHardwareSpecs": false,
    "memoryGiB": 64,
    "name": "ml.r5.2xlarge",
    "vcpuNum": 8
   },
   {
    "_defaultOrder": 42,
    "_isFastLaunch": false,
    "category": "Memory Optimized",
    "gpuNum": 0,
    "hideHardwareSpecs": false,
    "memoryGiB": 128,
    "name": "ml.r5.4xlarge",
    "vcpuNum": 16
   },
   {
    "_defaultOrder": 43,
    "_isFastLaunch": false,
    "category": "Memory Optimized",
    "gpuNum": 0,
    "hideHardwareSpecs": false,
    "memoryGiB": 256,
    "name": "ml.r5.8xlarge",
    "vcpuNum": 32
   },
   {
    "_defaultOrder": 44,
    "_isFastLaunch": false,
    "category": "Memory Optimized",
    "gpuNum": 0,
    "hideHardwareSpecs": false,
    "memoryGiB": 384,
    "name": "ml.r5.12xlarge",
    "vcpuNum": 48
   },
   {
    "_defaultOrder": 45,
    "_isFastLaunch": false,
    "category": "Memory Optimized",
    "gpuNum": 0,
    "hideHardwareSpecs": false,
    "memoryGiB": 512,
    "name": "ml.r5.16xlarge",
    "vcpuNum": 64
   },
   {
    "_defaultOrder": 46,
    "_isFastLaunch": false,
    "category": "Memory Optimized",
    "gpuNum": 0,
    "hideHardwareSpecs": false,
    "memoryGiB": 768,
    "name": "ml.r5.24xlarge",
    "vcpuNum": 96
   },
   {
    "_defaultOrder": 47,
    "_isFastLaunch": false,
    "category": "Accelerated computing",
    "gpuNum": 1,
    "hideHardwareSpecs": false,
    "memoryGiB": 16,
    "name": "ml.g5.xlarge",
    "vcpuNum": 4
   },
   {
    "_defaultOrder": 48,
    "_isFastLaunch": false,
    "category": "Accelerated computing",
    "gpuNum": 1,
    "hideHardwareSpecs": false,
    "memoryGiB": 32,
    "name": "ml.g5.2xlarge",
    "vcpuNum": 8
   },
   {
    "_defaultOrder": 49,
    "_isFastLaunch": false,
    "category": "Accelerated computing",
    "gpuNum": 1,
    "hideHardwareSpecs": false,
    "memoryGiB": 64,
    "name": "ml.g5.4xlarge",
    "vcpuNum": 16
   },
   {
    "_defaultOrder": 50,
    "_isFastLaunch": false,
    "category": "Accelerated computing",
    "gpuNum": 1,
    "hideHardwareSpecs": false,
    "memoryGiB": 128,
    "name": "ml.g5.8xlarge",
    "vcpuNum": 32
   },
   {
    "_defaultOrder": 51,
    "_isFastLaunch": false,
    "category": "Accelerated computing",
    "gpuNum": 1,
    "hideHardwareSpecs": false,
    "memoryGiB": 256,
    "name": "ml.g5.16xlarge",
    "vcpuNum": 64
   },
   {
    "_defaultOrder": 52,
    "_isFastLaunch": false,
    "category": "Accelerated computing",
    "gpuNum": 4,
    "hideHardwareSpecs": false,
    "memoryGiB": 192,
    "name": "ml.g5.12xlarge",
    "vcpuNum": 48
   },
   {
    "_defaultOrder": 53,
    "_isFastLaunch": false,
    "category": "Accelerated computing",
    "gpuNum": 4,
    "hideHardwareSpecs": false,
    "memoryGiB": 384,
    "name": "ml.g5.24xlarge",
    "vcpuNum": 96
   },
   {
    "_defaultOrder": 54,
    "_isFastLaunch": false,
    "category": "Accelerated computing",
    "gpuNum": 8,
    "hideHardwareSpecs": false,
    "memoryGiB": 768,
    "name": "ml.g5.48xlarge",
    "vcpuNum": 192
   },
   {
    "_defaultOrder": 55,
    "_isFastLaunch": false,
    "category": "Accelerated computing",
    "gpuNum": 8,
    "hideHardwareSpecs": false,
    "memoryGiB": 1152,
    "name": "ml.p4d.24xlarge",
    "vcpuNum": 96
   },
   {
    "_defaultOrder": 56,
    "_isFastLaunch": false,
    "category": "Accelerated computing",
    "gpuNum": 8,
    "hideHardwareSpecs": false,
    "memoryGiB": 1152,
    "name": "ml.p4de.24xlarge",
    "vcpuNum": 96
   },
   {
    "_defaultOrder": 57,
    "_isFastLaunch": false,
    "category": "Accelerated computing",
    "gpuNum": 0,
    "hideHardwareSpecs": false,
    "memoryGiB": 32,
    "name": "ml.trn1.2xlarge",
    "vcpuNum": 8
   },
   {
    "_defaultOrder": 58,
    "_isFastLaunch": false,
    "category": "Accelerated computing",
    "gpuNum": 0,
    "hideHardwareSpecs": false,
    "memoryGiB": 512,
    "name": "ml.trn1.32xlarge",
    "vcpuNum": 128
   },
   {
    "_defaultOrder": 59,
    "_isFastLaunch": false,
    "category": "Accelerated computing",
    "gpuNum": 0,
    "hideHardwareSpecs": false,
    "memoryGiB": 512,
    "name": "ml.trn1n.32xlarge",
    "vcpuNum": 128
   }
  ],
  "instance_type": "ml.g4dn.xlarge",
  "kernelspec": {
   "display_name": "Python 3 (Data Science 3.0)",
   "language": "python",
   "name": "python3__SAGEMAKER_INTERNAL__arn:aws:sagemaker:eu-north-1:243637512696:image/sagemaker-data-science-310-v1"
  },
  "language_info": {
   "codemirror_mode": {
    "name": "ipython",
    "version": 3
   },
   "file_extension": ".py",
   "mimetype": "text/x-python",
   "name": "python",
   "nbconvert_exporter": "python",
   "pygments_lexer": "ipython3",
   "version": "3.10.6"
  }
 },
 "nbformat": 4,
 "nbformat_minor": 5
}
